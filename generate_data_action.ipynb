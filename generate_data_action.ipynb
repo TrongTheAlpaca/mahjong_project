{
 "cells": [
  {
   "cell_type": "code",
   "execution_count": 1,
   "metadata": {},
   "outputs": [
    {
     "name": "stderr",
     "output_type": "stream",
     "text": [
      "/home/jovyan/MasterThesis/mahjong_project/utilities/utilities.py:9: TqdmExperimentalWarning: Using `tqdm.autonotebook.tqdm` in notebook mode. Use `tqdm.tqdm` instead to force console mode (e.g. in jupyter console)\n",
      "  from tqdm.autonotebook import trange, tqdm\n"
     ]
    }
   ],
   "source": [
    "from pathlib import Path\n",
    "import json\n",
    "import utilities.utilities as util\n",
    "import pandas as pd\n",
    "\n",
    "import os\n",
    "from dotenv import load_dotenv, find_dotenv"
   ]
  },
  {
   "cell_type": "code",
   "execution_count": 2,
   "metadata": {},
   "outputs": [
    {
     "data": {
      "text/plain": [
       "PosixPath('/home/jovyan/MasterThesis/data/json_logs')"
      ]
     },
     "execution_count": 2,
     "metadata": {},
     "output_type": "execute_result"
    }
   ],
   "source": [
    "load_dotenv(find_dotenv('config.env'))\n",
    "JSON_LOGS_PATH = Path(os.environ.get('JSON_DATASET'))\n",
    "JSON_LOGS_PATH"
   ]
  },
  {
   "cell_type": "code",
   "execution_count": 3,
   "metadata": {},
   "outputs": [
    {
     "data": {
      "text/plain": [
       "PosixPath('/home/jovyan/MasterThesis/data/state_data_new')"
      ]
     },
     "execution_count": 3,
     "metadata": {},
     "output_type": "execute_result"
    }
   ],
   "source": [
    "OUTPUT_PATH = Path.home() / 'MasterThesis' / 'data' / 'state_data_new'\n",
    "OUTPUT_PATH.mkdir(exist_ok=True)\n",
    "OUTPUT_PATH"
   ]
  },
  {
   "cell_type": "code",
   "execution_count": 4,
   "metadata": {},
   "outputs": [],
   "source": [
    "INIT = 'Init'\n",
    "DRAW = 'Draw'\n",
    "DISCARD = 'Discard'\n",
    "CHI = 'Chi'\n",
    "PON = 'Pon'\n",
    "MINKAN = 'MinKan'  # Open Kan\n",
    "ANKAN = 'AnKan'  # Closed Kan\n",
    "KAKAN = 'KaKan'  # Added Kan\n",
    "NUKI = 'Nuki'  # Declare North dora\n",
    "REMOVE = 'Remove'\n",
    "REACH = 'Riichi'"
   ]
  },
  {
   "cell_type": "code",
   "execution_count": 5,
   "metadata": {},
   "outputs": [
    {
     "data": {
      "application/vnd.jupyter.widget-view+json": {
       "model_id": "9110600459f444eea1166ee6919fecde",
       "version_major": 2,
       "version_minor": 0
      },
      "text/plain": [
       "2014:   0%|          | 0/141132 [00:00<?, ?it/s]"
      ]
     },
     "metadata": {},
     "output_type": "display_data"
    },
    {
     "data": {
      "application/vnd.jupyter.widget-view+json": {
       "model_id": "c4f1b2d461f24948971e72eac97651dc",
       "version_major": 2,
       "version_minor": 0
      },
      "text/plain": [
       "2018:   0%|          | 0/173548 [00:00<?, ?it/s]"
      ]
     },
     "metadata": {},
     "output_type": "display_data"
    },
    {
     "data": {
      "application/vnd.jupyter.widget-view+json": {
       "model_id": "c961629b6dc14b88ba94a7c5b806a9b2",
       "version_major": 2,
       "version_minor": 0
      },
      "text/plain": [
       "2017:   0%|          | 0/169384 [00:00<?, ?it/s]"
      ]
     },
     "metadata": {},
     "output_type": "display_data"
    },
    {
     "data": {
      "application/vnd.jupyter.widget-view+json": {
       "model_id": "9d7c0f7d791f4d3abf8a92a2f08211e7",
       "version_major": 2,
       "version_minor": 0
      },
      "text/plain": [
       "2019:   0%|          | 0/171629 [00:00<?, ?it/s]"
      ]
     },
     "metadata": {},
     "output_type": "display_data"
    },
    {
     "data": {
      "application/vnd.jupyter.widget-view+json": {
       "model_id": "1f3abe99d8844bf6a8a5a1027a7f614b",
       "version_major": 2,
       "version_minor": 0
      },
      "text/plain": [
       "2009:   0%|          | 0/6895 [00:00<?, ?it/s]"
      ]
     },
     "metadata": {},
     "output_type": "display_data"
    },
    {
     "data": {
      "application/vnd.jupyter.widget-view+json": {
       "model_id": "79fb65b877a641efa3c51e6a4b8dc12e",
       "version_major": 2,
       "version_minor": 0
      },
      "text/plain": [
       "2013:   0%|          | 0/131838 [00:00<?, ?it/s]"
      ]
     },
     "metadata": {},
     "output_type": "display_data"
    },
    {
     "data": {
      "application/vnd.jupyter.widget-view+json": {
       "model_id": "2e8b6bc0c32d448da97eb5646711967e",
       "version_major": 2,
       "version_minor": 0
      },
      "text/plain": [
       "2016:   0%|          | 0/159665 [00:00<?, ?it/s]"
      ]
     },
     "metadata": {},
     "output_type": "display_data"
    },
    {
     "data": {
      "application/vnd.jupyter.widget-view+json": {
       "model_id": "1b6a99c13b8f46fda792e27f32cf611f",
       "version_major": 2,
       "version_minor": 0
      },
      "text/plain": [
       "2012:   0%|          | 0/116985 [00:00<?, ?it/s]"
      ]
     },
     "metadata": {},
     "output_type": "display_data"
    },
    {
     "data": {
      "application/vnd.jupyter.widget-view+json": {
       "model_id": "96d8f20cdd4246c8882a8d89847af858",
       "version_major": 2,
       "version_minor": 0
      },
      "text/plain": [
       "2010:   0%|          | 0/70228 [00:00<?, ?it/s]"
      ]
     },
     "metadata": {},
     "output_type": "display_data"
    },
    {
     "data": {
      "application/vnd.jupyter.widget-view+json": {
       "model_id": "ab76db3b56c44c53999b3578efaf3c37",
       "version_major": 2,
       "version_minor": 0
      },
      "text/plain": [
       "2015:   0%|          | 0/152280 [00:00<?, ?it/s]"
      ]
     },
     "metadata": {},
     "output_type": "display_data"
    },
    {
     "data": {
      "application/vnd.jupyter.widget-view+json": {
       "model_id": "363414ac76864c159b7d1ccef594fdae",
       "version_major": 2,
       "version_minor": 0
      },
      "text/plain": [
       "2011:   0%|          | 0/100814 [00:00<?, ?it/s]"
      ]
     },
     "metadata": {},
     "output_type": "display_data"
    }
   ],
   "source": [
    "years = util.get_all_logs_annually(JSON_LOGS_PATH,\n",
    "                                   years=[2009, 2010, 2011, 2012, 2013, 2014, 2015, 2016, 2017, 2018, 2019],\n",
    "                                   progress_bar=True,\n",
    "                                   filterblade_path=Path('log_game_data.parquet'))\n",
    "\n",
    "for year, logs in years:\n",
    "\n",
    "    output_path = OUTPUT_PATH / str(year)\n",
    "    output_path.mkdir(parents=True, exist_ok=True)\n",
    "\n",
    "    for log_json in logs:\n",
    "\n",
    "        rows = []  # List of Dictionaries\n",
    "\n",
    "        log = json.load(log_json.open())\n",
    "\n",
    "        for round_number, actions in enumerate(log['rounds']):\n",
    "\n",
    "            # STEP 1: Handle INIT case in isolation from the rest\n",
    "            # Rationale:\n",
    "            #   A log always begin with INIT, isolate it\n",
    "            #   such that next step can forgo an single-time-use if-statement\n",
    "\n",
    "            init = actions.pop(0)\n",
    "\n",
    "            init_data = init['data']\n",
    "\n",
    "            rows.append({\n",
    "                'log_id': log_json.stem,\n",
    "                'round': round_number,\n",
    "                'step': 0,\n",
    "                'player': -1,\n",
    "                'action': INIT,\n",
    "                'tile': 255\n",
    "            })\n",
    "\n",
    "            for player, starting_hand in enumerate(init_data['hands']):\n",
    "                for tile in starting_hand:\n",
    "                    rows.append({\n",
    "                        'log_id': log_json.stem,\n",
    "                        'round': round_number,\n",
    "                        'step': 0,\n",
    "                        'player': player,\n",
    "                        'action': DRAW,\n",
    "                        'tile': tile\n",
    "                    })\n",
    "\n",
    "            rows.append({\n",
    "                'log_id': log_json.stem,\n",
    "                'round': round_number,\n",
    "                'step': 0,\n",
    "                'player': -1,\n",
    "                'action': 'Dora',\n",
    "                'tile': init_data['dora']  # Tile revealed\n",
    "            })\n",
    "\n",
    "            # STEP 2: Handle actions after INIT\n",
    "            # Loop Params\n",
    "            pons = [set(), set(), set(), set()]  # Needed for Chankan = Robbing a Kan\n",
    "            previous_kakan_tile = -1  # Needed for Chankan = Robbing a Kan\n",
    "            discard_tile = -1  # Needed when removing from pool\n",
    "            step_offset = 1\n",
    "            next_discard_is_reach = False\n",
    "\n",
    "            for step, action in enumerate(actions):\n",
    "\n",
    "                tag = action['tag']\n",
    "\n",
    "                if tag == 'DRAW':\n",
    "\n",
    "                    previous_drawn_tile = action['data']['tile']\n",
    "\n",
    "                    rows.append({\n",
    "                        'log_id': log_json.stem,\n",
    "                        'round': round_number,\n",
    "                        'step': step + step_offset,\n",
    "                        'player': action['data']['player'],\n",
    "                        'action': DRAW,\n",
    "                        'tile': previous_drawn_tile\n",
    "                    })\n",
    "\n",
    "                elif tag == 'DISCARD':\n",
    "\n",
    "                    discard_tile = action['data']['tile']  # Store discarded tile in history\n",
    "\n",
    "                    rows.append({\n",
    "                        'log_id': log_json.stem,\n",
    "                        'round': round_number,\n",
    "                        'step': step + step_offset,\n",
    "                        'player': action['data']['player'],\n",
    "                        'action': DISCARD if not next_discard_is_reach else REACH,  # Merged Discard with Reach\n",
    "                        'tile': discard_tile  # Previous discard pile\n",
    "                    })\n",
    "\n",
    "                    next_discard_is_reach = False\n",
    "\n",
    "                elif tag == 'CALL':\n",
    "\n",
    "                    meld = action['data']['mentsu']  # List of classes, not sorted\n",
    "                    call_type = action['data']['call_type']\n",
    "\n",
    "                    if call_type in [CHI, PON, MINKAN]:  # The 3 calls that removes from callees pool\n",
    "                        rows.append({\n",
    "                            'log_id': log_json.stem,\n",
    "                            'round': round_number,\n",
    "                            'step': step + step_offset,\n",
    "                            'player': action['data']['callee'],\n",
    "                            'action': REMOVE,\n",
    "                            'tile': discard_tile  # Previous discard pile\n",
    "                        })\n",
    "\n",
    "                    # Handles Chankan - Robbing a Kan\n",
    "                    if call_type == PON:\n",
    "                        pons[action['data']['caller']].update(meld)\n",
    "                    elif call_type == KAKAN:\n",
    "                        added_tile = list(set(meld) - pons[action['data']['caller']])\n",
    "                        assert len(added_tile) == 1, 'MORE THAN ONE ADDED TILE!'\n",
    "                        previous_kakan_tile = added_tile[0]\n",
    "                    \n",
    "                    # Handles Ankan - NOTE: Ankans have only 2 tiles in its meld in the original data. We re-populate it to 4.\n",
    "                    if call_type == ANKAN:\n",
    "                        base_tile_class = (meld[0] // 4) * 4  # Not important which tile of the meld we pick here => therefore retrieving the first element\n",
    "                        meld = [base_tile_class + i for i in range(4)]\n",
    "\n",
    "                    for tile in sorted(meld):  # Added sorting here to include more predictability\n",
    "                        rows.append({\n",
    "                            'log_id': log_json.stem,\n",
    "                            'round': round_number,\n",
    "                            'step': step + step_offset,\n",
    "                            'player': action['data']['caller'],\n",
    "                            'action': action['data']['call_type'],\n",
    "                            'tile': tile\n",
    "                        })\n",
    "\n",
    "                elif tag == 'REACH' and action['data']['step'] == 1:  # 'REACH' is two-step, we check only for 1st part\n",
    "                    next_discard_is_reach = True\n",
    "                    step_offset -= 1\n",
    "\n",
    "                elif tag == 'DORA':\n",
    "\n",
    "                    step_offset -= 1  # Sync with prior Kan\n",
    "\n",
    "                    rows.append({\n",
    "                        'log_id': log_json.stem,\n",
    "                        'round': round_number,\n",
    "                        'step': step + step_offset,\n",
    "                        'player': -1,\n",
    "                        'action': 'Dora',\n",
    "                        'tile': action['data']['hai']  # Tile revealed\n",
    "                    })\n",
    "\n",
    "                elif tag == 'AGARI':\n",
    "\n",
    "                    is_ron = 'loser' in action['data']  # Check if RON or TSUMO\n",
    "                    previous_action = rows[-1]['action']\n",
    "\n",
    "                    if is_ron:  # if RON -> prepend REMOVE action\n",
    "                        rows.append({\n",
    "                            'log_id': log_json.stem,\n",
    "                            'round': round_number,\n",
    "                            'step': step + step_offset,\n",
    "                            'player': action['data']['loser'],\n",
    "                            'action': REMOVE,\n",
    "                            'tile': discard_tile if previous_action != KAKAN else previous_kakan_tile\n",
    "                            # Previous discard pile\n",
    "                        })\n",
    "\n",
    "                    rows.append({\n",
    "                        'log_id': log_json.stem,\n",
    "                        'round': round_number,\n",
    "                        'step': step + step_offset,\n",
    "                        'player': action['data']['winner'],\n",
    "                        'action': 'Ron' if is_ron else 'Tsumo',\n",
    "                        'tile': rows[-1]['tile'] if previous_action != KAKAN else previous_kakan_tile\n",
    "                        # Previous tile (either from DISCARD or DRAW or KAKAN)\n",
    "                    })\n",
    "\n",
    "                elif tag == 'RYUUKYOKU':\n",
    "                    rows.append({\n",
    "                        'log_id': log_json.stem,\n",
    "                        'round': round_number,\n",
    "                        'step': step + step_offset,\n",
    "                        'player': -1,\n",
    "                        'action': 'Ryuukyoku',\n",
    "                        'tile': 255  # Tile revealed\n",
    "                    })\n",
    "\n",
    "        df = pd.DataFrame(rows)\n",
    "\n",
    "        # Managing dtypes (This includes a noticeable overhead about 10-15% in time)\n",
    "        df = df.astype({\n",
    "            'log_id': pd.StringDtype(),\n",
    "            'round': 'uint8',\n",
    "            'step': 'uint8',\n",
    "            'player': 'int8',\n",
    "            'action': 'category',  # dtype `category` will not be saved, and will later be read as `object`\n",
    "            'tile': 'uint8'\n",
    "        })\n",
    "\n",
    "        df.to_parquet(output_path / f\"{log_json.stem}.parquet\", engine='fastparquet')"
   ]
  },
  {
   "cell_type": "code",
   "execution_count": null,
   "metadata": {},
   "outputs": [],
   "source": []
  }
 ],
 "metadata": {
  "kernelspec": {
   "display_name": "Python 3",
   "language": "python",
   "name": "python3"
  },
  "language_info": {
   "codemirror_mode": {
    "name": "ipython",
    "version": 3
   },
   "file_extension": ".py",
   "mimetype": "text/x-python",
   "name": "python",
   "nbconvert_exporter": "python",
   "pygments_lexer": "ipython3",
   "version": "3.8.6"
  }
 },
 "nbformat": 4,
 "nbformat_minor": 4
}
