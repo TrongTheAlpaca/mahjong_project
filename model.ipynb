{
 "cells": [
  {
   "cell_type": "code",
   "execution_count": 182,
   "metadata": {},
   "outputs": [
    {
     "data": {
      "text/plain": [
       "True"
      ]
     },
     "execution_count": 182,
     "metadata": {},
     "output_type": "execute_result"
    }
   ],
   "source": [
    "import time\n",
    "import json  # for checkpointing\n",
    "import csv\n",
    "\n",
    "from pathlib import Path\n",
    "\n",
    "import numpy as np\n",
    "import scipy.sparse\n",
    "import torch\n",
    "import torch.nn.functional as F\n",
    "from matplotlib import pyplot as plt\n",
    "from tqdm.notebook import trange, tqdm\n",
    "\n",
    "import pandas as pd\n",
    "\n",
    "import datetime\n",
    "\n",
    "import os\n",
    "from dotenv import load_dotenv, find_dotenv\n",
    "\n",
    "from timeit import default_timer as timer\n",
    "\n",
    "load_dotenv(find_dotenv('config.env'))\n",
    "\n",
    "torch.cuda.current_device()\n",
    "torch.cuda.device(0)\n",
    "torch.cuda.device_count()\n",
    "torch.cuda.get_device_name(0)\n",
    "torch.cuda.is_available()"
   ]
  },
  {
   "cell_type": "code",
   "execution_count": 183,
   "metadata": {},
   "outputs": [
    {
     "name": "stdout",
     "output_type": "stream",
     "text": [
      "Thu Mar 25 12:03:05 2021       \n",
      "+-----------------------------------------------------------------------------+\n",
      "| NVIDIA-SMI 450.51.05    Driver Version: 450.51.05    CUDA Version: 11.0     |\n",
      "|-------------------------------+----------------------+----------------------+\n",
      "| GPU  Name        Persistence-M| Bus-Id        Disp.A | Volatile Uncorr. ECC |\n",
      "| Fan  Temp  Perf  Pwr:Usage/Cap|         Memory-Usage | GPU-Util  Compute M. |\n",
      "|                               |                      |               MIG M. |\n",
      "|===============================+======================+======================|\n",
      "|   0  Tesla V100-SXM3...  On   | 00000000:E0:00.0 Off |                    0 |\n",
      "| N/A   26C    P0    50W / 350W |      3MiB / 32510MiB |      0%      Default |\n",
      "|                               |                      |                  N/A |\n",
      "+-------------------------------+----------------------+----------------------+\n",
      "                                                                               \n",
      "+-----------------------------------------------------------------------------+\n",
      "| Processes:                                                                  |\n",
      "|  GPU   GI   CI        PID   Type   Process name                  GPU Memory |\n",
      "|        ID   ID                                                   Usage      |\n",
      "|=============================================================================|\n",
      "|  No running processes found                                                 |\n",
      "+-----------------------------------------------------------------------------+\n"
     ]
    }
   ],
   "source": [
    "!nvidia-smi"
   ]
  },
  {
   "cell_type": "code",
   "execution_count": 203,
   "metadata": {
    "collapsed": false,
    "jupyter": {
     "outputs_hidden": false
    },
    "pycharm": {
     "name": "#%%\n"
    }
   },
   "outputs": [],
   "source": [
    "ticks_tiles_newlined = [\n",
    "    \"1\\nman\",\n",
    "    \"2\\nman\",\n",
    "    \"3\\nman\",\n",
    "    \"4\\nman\",\n",
    "    \"5\\nman\",\n",
    "    \"6\\nman\",\n",
    "    \"7\\nman\",\n",
    "    \"8\\nman\",\n",
    "    \"9\\nman\",\n",
    "    \"1\\npin\",\n",
    "    \"2\\npin\",\n",
    "    \"3\\npin\",\n",
    "    \"4\\npin\",\n",
    "    \"5\\npin\",\n",
    "    \"6\\npin\",\n",
    "    \"7\\npin\",\n",
    "    \"8\\npin\",\n",
    "    \"9\\npin\",\n",
    "    \"1\\nsou\",\n",
    "    \"2\\nsou\",\n",
    "    \"3\\nsou\",\n",
    "    \"4\\nsou\",\n",
    "    \"5\\nsou\",\n",
    "    \"6\\nsou\",\n",
    "    \"7\\nsou\",\n",
    "    \"8\\nsou\",\n",
    "    \"9\\nsou\",\n",
    "    \"\\nEast\",\n",
    "    \"\\nSouth\",\n",
    "    \"\\nWest\",\n",
    "    \"\\nNorth\",\n",
    "    \"\\nHaku\",\n",
    "    \"\\nHatsu\",\n",
    "    \"\\nChun\"\n",
    "]\n",
    "\n",
    "ticks_tiles_oneline = [\n",
    "    \"1 man\",\n",
    "    \"2 man\",\n",
    "    \"3 man\",\n",
    "    \"4 man\",\n",
    "    \"5 man\",\n",
    "    \"6 man\",\n",
    "    \"7 man\",\n",
    "    \"8 man\",\n",
    "    \"9 man\",\n",
    "    \"1 pin\",\n",
    "    \"2 pin\",\n",
    "    \"3 pin\",\n",
    "    \"4 pin\",\n",
    "    \"5 pin\",\n",
    "    \"6 pin\",\n",
    "    \"7 pin\",\n",
    "    \"8 pin\",\n",
    "    \"9 pin\",\n",
    "    \"1 sou\",\n",
    "    \"2 sou\",\n",
    "    \"3 sou\",\n",
    "    \"4 sou\",\n",
    "    \"5 sou\",\n",
    "    \"6 sou\",\n",
    "    \"7 sou\",\n",
    "    \"8 sou\",\n",
    "    \"9 sou\",\n",
    "    \"East\",\n",
    "    \"South\",\n",
    "    \"West\",\n",
    "    \"North\",\n",
    "    \"Haku\",\n",
    "    \"Hatsu\",\n",
    "    \"Chun\"\n",
    "]"
   ]
  },
  {
   "cell_type": "code",
   "execution_count": 232,
   "metadata": {},
   "outputs": [
    {
     "name": "stdout",
     "output_type": "stream",
     "text": [
      "Tesla V100-SXM3-32GB\n",
      "Memory Usage:\n",
      "Allocated: 0.0 GB\n",
      "Cached:    0.0 GB\n"
     ]
    }
   ],
   "source": [
    "##############################################\n",
    "# PARAMETERS\n",
    "##############################################\n",
    "torch.manual_seed(0)\n",
    "np.random.seed(0)\n",
    "\n",
    "DEVICE = torch.device(\"cuda\")\n",
    "EPOCHS = 20\n",
    "DATASET_CONFIG = 'test_heavy'\n",
    "SHUFFLE_DATASET = True\n",
    "\n",
    "if DEVICE.type == 'cuda':\n",
    "    print(torch.cuda.get_device_name(0))\n",
    "    print('Memory Usage:')\n",
    "    print('Allocated:', round(torch.cuda.memory_allocated(0) / 1024 ** 3, 1), 'GB')\n",
    "    print('Cached:   ', round(torch.cuda.memory_reserved(0) / 1024 ** 3, 1), 'GB')"
   ]
  },
  {
   "cell_type": "code",
   "execution_count": 233,
   "metadata": {},
   "outputs": [],
   "source": [
    "class DiscardDataset(torch.utils.data.Dataset):\n",
    "\n",
    "    def __init__(self, data_path, years: list, n_rows: int = None, phase: int = None, balance_data: bool = False):\n",
    "        \"\"\" If n_rows = None -> get all \"\"\" \n",
    "        \n",
    "        # Invalid Parameter Combinations\n",
    "        if balance_data:\n",
    "            if not n_rows:\n",
    "                raise BaseException(\"`n_rows` must be defined if `balance_data` is True!\")\n",
    "            elif n_rows < 34:\n",
    "                raise BaseException(\"Cannot balance data if `n_rows` < 34!\")\n",
    "        \n",
    "        ALL_YEARS = (2009, 2010, 2011, 2012, 2013, 2014, 2015, 2016, 2017, 2018, 2019)\n",
    "        invalid_years = set(years) - set(ALL_YEARS)\n",
    "        if invalid_years:\n",
    "            raise Exception(f\"INVALID YEARS: {invalid_years}\")\n",
    "        \n",
    "        # Dataset Print\n",
    "        if n_rows:\n",
    "            print(f\"Loading Dataset with {n_rows:>9,} rows\", end=' ')\n",
    "        else:\n",
    "            print(f\"Loading Dataset with all rows\", end=' ')\n",
    "\n",
    "        if phase in [0, 1, 2]:\n",
    "            print(f\"(Phase {phase})\", end=' ')\n",
    "        else:\n",
    "            print(f\"(All Phases)\", end=' ')\n",
    "            \n",
    "        print(\"{:<14}\".format(\"<BALANCED>\" if balance_data else '<NOT BALANCED>'), end=' ')\n",
    "        \n",
    "        print(years)\n",
    "            \n",
    "        temp_matrices = []\n",
    "        finished = False\n",
    "        \n",
    "        # Used when balance_data = False and n_rows != None\n",
    "        loaded_rows = 0  \n",
    "        \n",
    "        # Used when balance_data = True\n",
    "        class_bins = np.zeros(34)\n",
    "        baseline_bin_size = n_rows // 34  # The expected size of the smallest bin\n",
    "\n",
    "        if balance_data:\n",
    "            paths_load_bar = tqdm(total=baseline_bin_size * 34, unit='rows', position=0)\n",
    "        else:\n",
    "            paths_load_bar = tqdm(total=n_rows, unit='rows', position=0)\n",
    "\n",
    "        for year in years:\n",
    "\n",
    "            paths = (Path(data_path) / str(year)).iterdir()\n",
    "\n",
    "            for idx, path in enumerate(paths):\n",
    "\n",
    "                arr = scipy.sparse.load_npz(path).toarray()\n",
    "\n",
    "                if phase in [0, 1, 2]:\n",
    "                    phased_matrices = self.generate_phase_column(arr)\n",
    "                    arr = phased_matrices[phase]\n",
    "\n",
    "                temp_matrices.append(arr)\n",
    "\n",
    "                paths_load_bar.set_postfix(year=year, files_loaded=(idx + 1))  # Update Bar\n",
    "\n",
    "                if balance_data:\n",
    "                    \n",
    "                    class_bins += np.bincount(arr[:, -1], minlength=34)\n",
    "                    smallest_class_bin = int(np.amin(class_bins))\n",
    "\n",
    "                    paths_load_bar.n = smallest_class_bin * 34\n",
    "                    paths_load_bar.refresh()\n",
    "                    \n",
    "                    if baseline_bin_size <= smallest_class_bin:\n",
    "                        finished = True\n",
    "                        break\n",
    "\n",
    "                else:\n",
    "                    paths_load_bar.update(arr.shape[0])\n",
    "                    \n",
    "                    if n_rows:\n",
    "                        loaded_rows += arr.shape[0]\n",
    "                        if n_rows <= loaded_rows:\n",
    "                            finished = True\n",
    "                            break\n",
    "\n",
    "            if finished:  # Early Stopping\n",
    "                break\n",
    "                \n",
    "        if not finished and nrows:\n",
    "            raise BaseException(\"`n_rows` is higher than found rows -- Either lower `n_rows` or include more annual datasets!\")\n",
    "            \n",
    "        if balance_data:\n",
    "            matrix = np.concatenate(temp_matrices, axis=0)\n",
    "            matrix = matrix[np.argsort(matrix[:, -1])]  # Sort rows by last column (the y-value)\n",
    "            sorted_rows = np.array_split(matrix, np.where(np.diff(matrix[:, -1])!=0)[0]+1)  # Organize rows according to their last column's value into a list\n",
    "            for i in range(len(sorted_rows)):\n",
    "                sorted_rows[i] = sorted_rows[i][:baseline_bin_size]  # The balancing action\n",
    "\n",
    "            final_arr = np.concatenate(sorted_rows, axis=0)\n",
    "        else:\n",
    "            final_arr = np.vstack(temp_matrices)\n",
    "\n",
    "            if n_rows:\n",
    "                final_arr = final_arr[:n_rows]\n",
    "\n",
    "        # Finalize tqdm bar\n",
    "        paths_load_bar.n = final_arr.shape[0]\n",
    "        paths_load_bar.last_print_n = final_arr.shape[0]\n",
    "        paths_load_bar.refresh()\n",
    "        paths_load_bar.close()\n",
    "\n",
    "        self.x_data = torch.FloatTensor(final_arr[:, :-1])  # Must be Float it seems\n",
    "        self.y_data = torch.LongTensor(final_arr[:, -1])  # Must be Long it seems\n",
    "\n",
    "    @staticmethod\n",
    "    def generate_phase_column(array: np.array) -> np.array:\n",
    "        # Begin with merging all pools together\n",
    "\n",
    "        merged_discards = array[:, 238:]  # Discards\n",
    "        merged_discards = np.sum(merged_discards, axis=1)\n",
    "\n",
    "        phases = np.zeros([array.shape[0]])  # Early Game\n",
    "        phases[(24 < merged_discards) & (merged_discards <= 48)] = 1  # Mid Game\n",
    "        phases[(48 < merged_discards)] = 2  # End Game\n",
    "\n",
    "        return array[(phases == 0)], array[(phases == 1)], array[(phases == 2)]\n",
    "\n",
    "    def __len__(self):\n",
    "        return self.x_data.shape[0]\n",
    "\n",
    "    def __getitem__(self, idx):\n",
    "        return {\n",
    "            'X': self.x_data[idx],\n",
    "            'y': self.y_data[idx]\n",
    "        }"
   ]
  },
  {
   "cell_type": "markdown",
   "metadata": {},
   "source": [
    "# DATASET"
   ]
  },
  {
   "cell_type": "code",
   "execution_count": 234,
   "metadata": {},
   "outputs": [
    {
     "data": {
      "text/plain": [
       "train_size          68000000\n",
       "validation_size     17000000\n",
       "test_size            1000000\n",
       "batch                     32\n",
       "phases                    -1\n",
       "years_training          1100\n",
       "years_validation          10\n",
       "years_testing              1\n",
       "balanced_data            110\n",
       "Name: test_heavy, dtype: int64"
      ]
     },
     "execution_count": 234,
     "metadata": {},
     "output_type": "execute_result"
    }
   ],
   "source": [
    "# Load from configurations\n",
    "ds_configs = pd.read_csv('Dataset Configurations.csv', index_col='dataset_name')\n",
    "selected_config = ds_configs.loc[DATASET_CONFIG]\n",
    "selected_config"
   ]
  },
  {
   "cell_type": "code",
   "execution_count": 235,
   "metadata": {},
   "outputs": [],
   "source": [
    "def get_years(code: str) -> list:\n",
    "    code = int(f\"0b{code:0>11}\", 2)\n",
    "    found_years = []\n",
    "    for i in range(11):\n",
    "        if (code >> i) & 1:\n",
    "            found_years.append(2019 - i)\n",
    "    found_years.reverse()\n",
    "    return found_years"
   ]
  },
  {
   "cell_type": "code",
   "execution_count": 236,
   "metadata": {},
   "outputs": [],
   "source": [
    "def get_balanced_data_options(code: str):\n",
    "    results = [False, False, False]\n",
    "    code = int(f\"0b{code:0>11}\", 2)\n",
    "    results[0] = code & 0b100 != 0\n",
    "    results[1] = code & 0b010 != 0\n",
    "    results[2] = code & 0b001 != 0\n",
    "    return results"
   ]
  },
  {
   "cell_type": "code",
   "execution_count": 237,
   "metadata": {},
   "outputs": [
    {
     "name": "stdout",
     "output_type": "stream",
     "text": [
      "\n",
      "LOADING DATASETS:\n",
      "\n",
      "Loading Dataset with 68,000,000 rows (All Phases) <BALANCED>     [2016, 2017]\n"
     ]
    },
    {
     "data": {
      "application/vnd.jupyter.widget-view+json": {
       "model_id": "7e3a6202954944dda77c8a6b7d298a33",
       "version_major": 2,
       "version_minor": 0
      },
      "text/plain": [
       "  0%|          | 0/68000000 [00:00<?, ?rows/s]"
      ]
     },
     "metadata": {},
     "output_type": "display_data"
    },
    {
     "ename": "KeyboardInterrupt",
     "evalue": "",
     "output_type": "error",
     "traceback": [
      "\u001b[0;31m---------------------------------------------------------------------------\u001b[0m",
      "\u001b[0;31mKeyboardInterrupt\u001b[0m                         Traceback (most recent call last)",
      "\u001b[0;32m<ipython-input-237-277be681d0ce>\u001b[0m in \u001b[0;36m<module>\u001b[0;34m\u001b[0m\n\u001b[1;32m      8\u001b[0m \u001b[0;34m\u001b[0m\u001b[0m\n\u001b[1;32m      9\u001b[0m \u001b[0;31m# Training Dataset\u001b[0m\u001b[0;34m\u001b[0m\u001b[0;34m\u001b[0m\u001b[0;34m\u001b[0m\u001b[0m\n\u001b[0;32m---> 10\u001b[0;31m train_dataset = DiscardDataset(DATASET_PATH,\n\u001b[0m\u001b[1;32m     11\u001b[0m                                \u001b[0mn_rows\u001b[0m\u001b[0;34m=\u001b[0m\u001b[0mselected_config\u001b[0m\u001b[0;34m[\u001b[0m\u001b[0;34m'train_size'\u001b[0m\u001b[0;34m]\u001b[0m\u001b[0;34m,\u001b[0m\u001b[0;34m\u001b[0m\u001b[0;34m\u001b[0m\u001b[0m\n\u001b[1;32m     12\u001b[0m                                \u001b[0myears\u001b[0m\u001b[0;34m=\u001b[0m\u001b[0mget_years\u001b[0m\u001b[0;34m(\u001b[0m\u001b[0mselected_config\u001b[0m\u001b[0;34m[\u001b[0m\u001b[0;34m'years_training'\u001b[0m\u001b[0;34m]\u001b[0m\u001b[0;34m)\u001b[0m\u001b[0;34m,\u001b[0m\u001b[0;34m\u001b[0m\u001b[0;34m\u001b[0m\u001b[0m\n",
      "\u001b[0;32m<ipython-input-233-d8fa4a075e5b>\u001b[0m in \u001b[0;36m__init__\u001b[0;34m(self, data_path, years, n_rows, phase, balance_data)\u001b[0m\n\u001b[1;32m     52\u001b[0m             \u001b[0;32mfor\u001b[0m \u001b[0midx\u001b[0m\u001b[0;34m,\u001b[0m \u001b[0mpath\u001b[0m \u001b[0;32min\u001b[0m \u001b[0menumerate\u001b[0m\u001b[0;34m(\u001b[0m\u001b[0mpaths\u001b[0m\u001b[0;34m)\u001b[0m\u001b[0;34m:\u001b[0m\u001b[0;34m\u001b[0m\u001b[0;34m\u001b[0m\u001b[0m\n\u001b[1;32m     53\u001b[0m \u001b[0;34m\u001b[0m\u001b[0m\n\u001b[0;32m---> 54\u001b[0;31m                 \u001b[0marr\u001b[0m \u001b[0;34m=\u001b[0m \u001b[0mscipy\u001b[0m\u001b[0;34m.\u001b[0m\u001b[0msparse\u001b[0m\u001b[0;34m.\u001b[0m\u001b[0mload_npz\u001b[0m\u001b[0;34m(\u001b[0m\u001b[0mpath\u001b[0m\u001b[0;34m)\u001b[0m\u001b[0;34m.\u001b[0m\u001b[0mtoarray\u001b[0m\u001b[0;34m(\u001b[0m\u001b[0;34m)\u001b[0m\u001b[0;34m\u001b[0m\u001b[0;34m\u001b[0m\u001b[0m\n\u001b[0m\u001b[1;32m     55\u001b[0m \u001b[0;34m\u001b[0m\u001b[0m\n\u001b[1;32m     56\u001b[0m                 \u001b[0;32mif\u001b[0m \u001b[0mphase\u001b[0m \u001b[0;32min\u001b[0m \u001b[0;34m[\u001b[0m\u001b[0;36m0\u001b[0m\u001b[0;34m,\u001b[0m \u001b[0;36m1\u001b[0m\u001b[0;34m,\u001b[0m \u001b[0;36m2\u001b[0m\u001b[0;34m]\u001b[0m\u001b[0;34m:\u001b[0m\u001b[0;34m\u001b[0m\u001b[0;34m\u001b[0m\u001b[0m\n",
      "\u001b[0;31mKeyboardInterrupt\u001b[0m: "
     ]
    }
   ],
   "source": [
    "print(\"\\nLOADING DATASETS:\\n\")\n",
    "\n",
    "# Setup of Parameters\n",
    "DATASET_PATH = Path(os.environ.get('DISCARD_DATASET'))  # Get path\n",
    "BATCH_SIZE = int(selected_config['batch'])  # We must cast it or else it will crash\n",
    "BALANCED_TRAINING, BALANCED_VALIDATION, BALANCED_TEST = get_balanced_data_options(selected_config['balanced_data'])  # 3 boolean values\n",
    "PHASES = selected_config['phases']\n",
    "\n",
    "# Training Dataset\n",
    "train_dataset = DiscardDataset(DATASET_PATH,\n",
    "                               n_rows=selected_config['train_size'],\n",
    "                               years=get_years(selected_config['years_training']),\n",
    "                               phase=PHASES,\n",
    "                               balance_data=BALANCED_TRAINING\n",
    "                              )\n",
    "\n",
    "train_loader = torch.utils.data.DataLoader(train_dataset, batch_size=BATCH_SIZE, shuffle=SHUFFLE_DATASET)\n",
    "\n",
    "# Validation Dataset\n",
    "validation_dataset = DiscardDataset(DATASET_PATH,\n",
    "                                    n_rows=selected_config['validation_size'],\n",
    "                                    years=get_years(selected_config['years_validation']),\n",
    "                                    phase=PHASES,\n",
    "                                    balance_data=BALANCED_VALIDATION\n",
    "                                   )\n",
    "\n",
    "validation_loader = torch.utils.data.DataLoader(validation_dataset, batch_size=BATCH_SIZE, shuffle=SHUFFLE_DATASET)\n",
    "\n",
    "# Test Dataset\n",
    "test_dataset = DiscardDataset(DATASET_PATH, \n",
    "                              n_rows=selected_config['test_size'], \n",
    "                              years=get_years(selected_config['years_testing']),\n",
    "                              phase=PHASES,\n",
    "                              balance_data=BALANCED_TEST\n",
    "                             )\n",
    "\n",
    "test_loader = torch.utils.data.DataLoader(test_dataset, batch_size=1, shuffle=SHUFFLE_DATASET)"
   ]
  },
  {
   "cell_type": "code",
   "execution_count": null,
   "metadata": {
    "collapsed": false,
    "jupyter": {
     "outputs_hidden": false
    },
    "pycharm": {
     "name": "#%%\n"
    }
   },
   "outputs": [],
   "source": [
    "# TRAINING SET DISTRIBUTION\n",
    "keys, counts = np.unique(train_dataset.y_data, return_counts=True)\n",
    "fig = plt.figure(figsize=(17, 15))\n",
    "ax = plt.gca()\n",
    "plt.barh(keys, counts)\n",
    "\n",
    "plt.yticks(range(34), ticks_tiles_oneline)\n",
    "plt.show()"
   ]
  },
  {
   "cell_type": "code",
   "execution_count": 230,
   "metadata": {
    "collapsed": false,
    "jupyter": {
     "outputs_hidden": false
    },
    "pycharm": {
     "name": "#%%\n"
    }
   },
   "outputs": [
    {
     "data": {
      "image/png": "[encoded data removed]",
      "text/plain": [
       "<Figure size 1224x1080 with 1 Axes>"
      ]
     },
     "metadata": {
      "needs_background": "light"
     },
     "output_type": "display_data"
    }
   ],
   "source": [
    "# VALIDATION SET DISTRIBUTION\n",
    "keys, counts = np.unique(validation_dataset.y_data, return_counts=True)\n",
    "fig = plt.figure(figsize=(17, 15))\n",
    "ax = plt.gca()\n",
    "plt.barh(keys, counts)\n",
    "\n",
    "plt.yticks(range(34), ticks_tiles_oneline)\n",
    "plt.show()"
   ]
  },
  {
   "cell_type": "code",
   "execution_count": 231,
   "metadata": {},
   "outputs": [
    {
     "data": {
      "image/png": "[encoded data removed]",
      "text/plain": [
       "<Figure size 1224x1080 with 1 Axes>"
      ]
     },
     "metadata": {
      "needs_background": "light"
     },
     "output_type": "display_data"
    }
   ],
   "source": [
    "# VALIDATION SET DISTRIBUTION\n",
    "keys, counts = np.unique(test_dataset.y_data, return_counts=True)\n",
    "fig = plt.figure(figsize=(17, 15))\n",
    "ax = plt.gca()\n",
    "plt.barh(keys, counts)\n",
    "\n",
    "plt.yticks(range(34), ticks_tiles_oneline)\n",
    "plt.show()"
   ]
  },
  {
   "cell_type": "markdown",
   "metadata": {},
   "source": [
    "# Model Creation"
   ]
  },
  {
   "cell_type": "markdown",
   "metadata": {},
   "source": [
    "## Basic Network"
   ]
  },
  {
   "cell_type": "code",
   "execution_count": null,
   "metadata": {},
   "outputs": [],
   "source": [
    "class Net(torch.nn.Module):\n",
    "    \"\"\" Simple Feed-Forward Net \"\"\"\n",
    "\n",
    "    def __init__(self):\n",
    "        super(Net, self).__init__()\n",
    "        \n",
    "        self.name = \"BasicDenseNetwork_testing\"\n",
    "        \n",
    "        self.fc1 = torch.nn.Linear(11 * 34, 1028)\n",
    "        self.fc2 = torch.nn.Linear(1028, 512)\n",
    "        self.fc3 = torch.nn.Linear(512, 256)\n",
    "        self.fc4 = torch.nn.Linear(256, 128)\n",
    "        self.fc5 = torch.nn.Linear(128, 34)\n",
    "        \n",
    "        self.relu_1 = torch.nn.LeakyReLU()\n",
    "        self.relu_2 = torch.nn.LeakyReLU()\n",
    "        self.relu_3 = torch.nn.LeakyReLU()\n",
    "        self.relu_4 = torch.nn.LeakyReLU()\n",
    "\n",
    "        \n",
    "#         self.dropout_1 = torch.nn.Dropout()\n",
    "#         self.dropout_2 = torch.nn.Dropout()\n",
    "#         self.dropout_3 = torch.nn.Dropout()\n",
    "#         self.dropout_4 = torch.nn.Dropout()\n",
    "\n",
    "\n",
    "    def forward(self, x):\n",
    "        x = self.fc1(x)\n",
    "        x = self.relu_1(x)\n",
    "        \n",
    "        x = self.fc2(x)\n",
    "        x = self.relu_2(x)\n",
    "        \n",
    "        x = self.fc3(x)\n",
    "        x = self.relu_3(x)\n",
    "        \n",
    "        x = self.fc4(x)\n",
    "        x = self.relu_4(x)\n",
    "        \n",
    "        x = self.fc5(x)\n",
    "\n",
    "        return x\n",
    "\n",
    "    \n",
    "model = Net().to(DEVICE)\n",
    "criterion = torch.nn.CrossEntropyLoss().to(DEVICE)  # Loss function\n",
    "optimizer = torch.optim.SGD(model.parameters(), lr=0.001)\n",
    "\n",
    "loaded_epoch = 0\n",
    "\n",
    "model"
   ]
  },
  {
   "cell_type": "code",
   "execution_count": null,
   "metadata": {},
   "outputs": [],
   "source": [
    "LOAD_FOLDER = 'heavy_training_2021-03-21'  # Change this if you want to LOAD or NOT\n",
    "\n",
    "# TO LOAD OR NOT LOAD\n",
    "if LOAD_FOLDER:\n",
    "    CHECKPOINT_PATH = Path('model_checkpoints') / LOAD_FOLDER\n",
    "    DESCRIPTION_PATH = CHECKPOINT_PATH / 'description.json'\n",
    "    SUMMARY_PATH = CHECKPOINT_PATH / 'summary.csv'\n",
    "\n",
    "    last_epoch_file = sorted([c for c in CHECKPOINT_PATH.iterdir() if c.suffix == '.pt'])[-1]\n",
    "    loaded_checkpoint = torch.load(last_epoch_file)\n",
    "    print('Loaded Epoch', loaded_checkpoint['epoch'])\n",
    "\n",
    "    model.load_state_dict(loaded_checkpoint['model_state'])\n",
    "    optimizer.load_state_dict(loaded_checkpoint['optimizer_state'])\n",
    "    loaded_epoch = loaded_checkpoint['epoch']\n",
    "\n",
    "else:\n",
    "    # Create Model Checkpoint Folder\n",
    "    timestamp_string = time.strftime('%Y-%m-%d_%H-%M', time.localtime(time.time()))\n",
    "    CHECKPOINT_PATH = Path('model_checkpoints') / f\"{timestamp_string}_{model.name}\"\n",
    "    CHECKPOINT_PATH.mkdir()\n",
    "\n",
    "    DESCRIPTION_PATH = CHECKPOINT_PATH / 'description.json'\n",
    "    SUMMARY_PATH = CHECKPOINT_PATH / 'summary.csv'\n",
    "\n",
    "    model_desc_json = {\n",
    "        'model_name': model.name,\n",
    "        'model_description': repr(model),\n",
    "        'dataset_config': repr(selected_config)\n",
    "    }\n",
    "\n",
    "    with open(DESCRIPTION_PATH, 'w') as outfile:\n",
    "        json.dump(model_desc_json, outfile)\n",
    "\n",
    "    with open(SUMMARY_PATH, 'w', newline='') as file:\n",
    "        writer = csv.writer(file)\n",
    "        writer.writerow([\"epoch\", \"train_loss\", \"train_acc\", \"val_loss\", \"val_acc\", \"time_elapsed\"])"
   ]
  },
  {
   "cell_type": "markdown",
   "metadata": {},
   "source": [
    "# TRAINING & VALIDATION"
   ]
  },
  {
   "cell_type": "code",
   "execution_count": null,
   "metadata": {},
   "outputs": [],
   "source": [
    "def seconds_to_hhmmss(s):\n",
    "    seconds = s\n",
    "    minutes = seconds // 60\n",
    "    hours = minutes // 60\n",
    "    return \"%02d:%02d:%02d\" % (hours, minutes % 60, seconds % 60)"
   ]
  },
  {
   "cell_type": "code",
   "execution_count": null,
   "metadata": {},
   "outputs": [],
   "source": [
    "if loaded_epoch != 0:\n",
    "    loaded_epoch += 1  # If epoch was loaded\n",
    "\n",
    "# Progress Bars\n",
    "mq = trange(EPOCHS, desc='EPOCH', unit='epoch', initial=loaded_epoch)\n",
    "tq = trange(len(train_loader), desc=f'TRAINING', unit='batch')\n",
    "vq = trange(len(validation_loader), desc=f'VALIDATION', unit='batch')\n",
    "\n",
    "for epoch in range(loaded_epoch, EPOCHS):\n",
    "    \n",
    "    torch.manual_seed(epoch)\n",
    "    start_timer = timer()  # Start timer\n",
    "\n",
    "    \n",
    "    ##############################################\n",
    "    # TRAINING\n",
    "    ##############################################\n",
    "    sum_epoch_loss = 0.0\n",
    "    sum_epoch_acc = 0.0\n",
    "\n",
    "    model.train()\n",
    "    for batch_idx, batch in enumerate(train_loader):\n",
    "        X = batch['X'].to(DEVICE)\n",
    "        y = batch['y'].to(DEVICE)\n",
    "\n",
    "        optimizer.zero_grad()\n",
    "\n",
    "        outputs = model(X)  # Outputs float values for each class (do softmax on `outputs` to get distribution)\n",
    "        \n",
    "        # CUSTOM LOSS IN THE MAKING\n",
    "#         hand_rows = X[:, 2*34:3*34]\n",
    "#         sx = (hand_rows == 0)\n",
    "#         sx = sx.double()\n",
    "#         ss = sx * 1.1\n",
    "#         ss += 1  # True => X, False => 1\n",
    "#         augmented = outputs * ss\n",
    "        loss = criterion(outputs, y)  # avg loss in batch -> No need for softmax if criterion = Cross Entropy Loss\n",
    "        \n",
    "        predictions = torch.argmax(outputs, dim=1)\n",
    "        num_correct_predictions = torch.sum(torch.eq(predictions, y)).item()\n",
    "        batch_acc = num_correct_predictions / y.shape[0]  # y.shape[0] = batch_size\n",
    "\n",
    "        sum_epoch_loss += loss.item()\n",
    "        sum_epoch_acc += batch_acc\n",
    "\n",
    "        loss.backward()  # compute gradients\n",
    "        optimizer.step()  # update weights\n",
    "        \n",
    "        tq.update(1)\n",
    "    \n",
    "    tq.refresh()\n",
    "    time.sleep(0.1)\n",
    "    avg_acc_train = sum_epoch_acc / len(train_loader)  # average accuracy\n",
    "    avg_loss_train = sum_epoch_loss / len(train_loader)  # average loss\n",
    "\n",
    "    ##############################################\n",
    "    # VALIDATION\n",
    "    ##############################################\n",
    "    sum_epoch_loss = 0.0\n",
    "    sum_epoch_acc = 0.0\n",
    "    \n",
    "    model.eval()\n",
    "    for batch_idx, batch in enumerate(validation_loader):\n",
    "        X = batch['X'].to(DEVICE)\n",
    "        y = batch['y'].to(DEVICE)\n",
    "\n",
    "        # optimizer.zero_grad()  # TODO: Needed?\n",
    "\n",
    "        with torch.no_grad():  # Disables tracking of gradient\n",
    "            outputs = model(X)\n",
    "        loss = criterion(outputs, y)  # avg loss in batch\n",
    "\n",
    "        predictions = torch.argmax(outputs, dim=1)\n",
    "        num_correct_predictions = torch.sum(torch.eq(predictions, y)).item()\n",
    "        batch_acc = num_correct_predictions / y.shape[0]  # y.shape[0] = batch_size\n",
    "\n",
    "        sum_epoch_loss += loss.item()\n",
    "        sum_epoch_acc += batch_acc\n",
    "        \n",
    "        vq.update(1)\n",
    "    \n",
    "    vq.refresh()\n",
    "    time.sleep(0.1)\n",
    "    avg_acc_val = sum_epoch_acc / len(validation_loader)  # average accuracy\n",
    "    avg_loss_val = sum_epoch_loss / len(validation_loader)  # average loss\n",
    "    \n",
    "    ##############################################\n",
    "    # EPOCH CLEAN-UP\n",
    "    ##############################################\n",
    "    elapsed_time = timer() - start_timer  # End Timer\n",
    "    \n",
    "    # Print Epoch Summary\n",
    "    print('EPOCH {:>2}  |  TRAIN: loss={:.3f}, acc={:5.3f}  |  VALIDATION: loss={:.3f}, acc={:5.3f}  | TIME ELAPSED: {}'\n",
    "          .format(epoch,\n",
    "                  avg_loss_train, \n",
    "                  avg_acc_train,   \n",
    "                  avg_loss_val, \n",
    "                  avg_acc_val,\n",
    "                  seconds_to_hhmmss(elapsed_time),\n",
    "                 ))\n",
    "    \n",
    "    # Save Epoch Summary to csv\n",
    "    with open(SUMMARY_PATH, 'a', newline='') as file:\n",
    "        writer = csv.writer(file)\n",
    "        writer.writerow([\n",
    "            epoch, \n",
    "            avg_loss_train,\n",
    "            avg_acc_train,\n",
    "            avg_loss_val,\n",
    "            avg_acc_val,\n",
    "            seconds_to_hhmmss(elapsed_time)\n",
    "        ])\n",
    "\n",
    "    # Checkpoint Creation\n",
    "    training_checkpoint = {\n",
    "        'model_state': model.state_dict(),\n",
    "        'optimizer_state': optimizer.state_dict(),\n",
    "        'epoch': epoch,\n",
    "#         'train_acc': avg_acc_train,\n",
    "#         'train_loss': avg_loss_train,\n",
    "#         'val_acc': avg_acc_val,\n",
    "#         'val_loss': avg_loss_val\n",
    "    }\n",
    "#     destination = CHECKPOINT_PATH / (f'epoch-{epoch:03}-val_loss-{avg_loss_val:.3f}.pt')\n",
    "    destination = CHECKPOINT_PATH / (f'epoch-{epoch:03}.pt')\n",
    "    torch.save(training_checkpoint, destination)\n",
    "    \n",
    "    # Progress Bar Clean-up\n",
    "    mq.update(1)\n",
    "    tq.reset()\n",
    "    vq.reset()"
   ]
  },
  {
   "cell_type": "markdown",
   "metadata": {},
   "source": [
    "# Model TESTING"
   ]
  },
  {
   "cell_type": "code",
   "execution_count": null,
   "metadata": {},
   "outputs": [],
   "source": [
    "def check_if_tile_in_hand(predicted_class, data) -> bool:\n",
    "    \"\"\" Return True if predicted class is in hand. \"\"\"\n",
    "    return data[0][68:102][predicted_class] != 0"
   ]
  },
  {
   "cell_type": "code",
   "execution_count": null,
   "metadata": {},
   "outputs": [],
   "source": [
    "print('\\nTESTING')\n",
    "\n",
    "torch.manual_seed(0)\n",
    "\n",
    "\n",
    "n_correct = 0\n",
    "n_wrong = 0\n",
    "\n",
    "n_invalid_discards = 0\n",
    "predictions = []\n",
    "targets = []\n",
    "\n",
    "model.eval()\n",
    "for batch_idx, batch in enumerate(tqdm(test_loader, total=len(test_loader), desc=f'Testing', unit='batch')):\n",
    "\n",
    "    X = batch['X'].to(DEVICE)\n",
    "    y = batch['y'].to(DEVICE)\n",
    "    \n",
    "    optimizer.zero_grad()\n",
    "    with torch.no_grad():\n",
    "        output = model(X)\n",
    "\n",
    "#     outputs.append(output)  # 34-lengthed tensor\n",
    "\n",
    "    big_idx = torch.argmax(output)\n",
    "    if big_idx == y:\n",
    "        n_correct += 1\n",
    "    else:\n",
    "        n_wrong += 1\n",
    "        \n",
    "    # Invalid Discards\n",
    "    if not check_if_tile_in_hand(big_idx, X):\n",
    "        n_invalid_discards += 1\n",
    "        \n",
    "    # Confusion Matrix\n",
    "    predictions.append(big_idx.item())\n",
    "    targets.append(y.item())\n",
    "\n",
    "time.sleep(0.5)\n",
    "acc = n_correct / (n_correct + n_wrong)\n",
    "print(\"Testing Accuracy:\", acc)\n",
    "\n",
    "print(\"Number of Invalid Discards: {}\".format(n_invalid_discards))\n",
    "print(\"Invalid Discards Percentage: {}\".format(n_invalid_discards / len(test_loader)))"
   ]
  },
  {
   "cell_type": "code",
   "execution_count": null,
   "metadata": {},
   "outputs": [],
   "source": [
    "import sklearn.metrics\n",
    "print(sklearn.metrics.classification_report(targets, predictions, digits=3, zero_division=1))"
   ]
  },
  {
   "cell_type": "markdown",
   "metadata": {},
   "source": [
    "# Resources\n"
   ]
  },
  {
   "cell_type": "markdown",
   "metadata": {},
   "source": [
    "# Target Distribution"
   ]
  },
  {
   "cell_type": "code",
   "execution_count": null,
   "metadata": {},
   "outputs": [],
   "source": [
    "keys, counts = np.unique([data['y'].item() for data in DiscardDataset(dataset_path / \"2019\", n_rows=None, phase=-1, reverse=False)], return_counts=True)\n",
    "plt.figure(figsize=(17, 15))\n",
    "plt.barh(keys, counts)\n",
    "plt.yticks(range(34), ticks_tiles_oneline)\n",
    "plt.show()"
   ]
  },
  {
   "cell_type": "code",
   "execution_count": null,
   "metadata": {},
   "outputs": [],
   "source": [
    "keys, counts = np.unique([data['y'].item() for data in test_dataset], return_counts=True)\n",
    "plt.figure(figsize=(17, 15))\n",
    "plt.barh(keys, counts)\n",
    "plt.yticks(range(34), ticks_tiles_oneline)\n",
    "plt.show()"
   ]
  },
  {
   "cell_type": "markdown",
   "metadata": {},
   "source": [
    "# Prediction Distribution"
   ]
  },
  {
   "cell_type": "code",
   "execution_count": null,
   "metadata": {},
   "outputs": [],
   "source": [
    "keys, counts = np.unique(predictions, return_counts=True)\n",
    "fig = plt.figure(figsize=(17, 15))\n",
    "ax = plt.gca()\n",
    "plt.barh(keys, counts)\n",
    "\n",
    "plt.yticks(range(34), ticks_tiles_oneline)\n",
    "plt.show()"
   ]
  },
  {
   "cell_type": "code",
   "execution_count": null,
   "metadata": {},
   "outputs": [],
   "source": [
    "import sklearn\n",
    "import pandas as pd\n",
    "import seaborn as sns"
   ]
  },
  {
   "cell_type": "code",
   "execution_count": null,
   "metadata": {},
   "outputs": [],
   "source": [
    "confusion_nparray = sklearn.metrics.confusion_matrix(targets, predictions, normalize='true')\n",
    "df_cm = pd.DataFrame(confusion_nparray)\n",
    "plt.figure(figsize=(14, 13))\n",
    "sns.set(font_scale=1) # for label size\n",
    "sns.heatmap(df_cm, annot=False, annot_kws={\"size\": 10}, square=True, xticklabels=ticks_tiles_oneline, yticklabels=ticks_tiles_oneline) # font size\n",
    "\n",
    "plt.tight_layout()\n",
    "plt.ylabel('True label')\n",
    "plt.xlabel('Predicted label')\n",
    "\n",
    "plt.show()"
   ]
  },
  {
   "cell_type": "code",
   "execution_count": null,
   "metadata": {},
   "outputs": [],
   "source": [
    "summary = pd.read_csv(SUMMARY_PATH, index_col='epoch')\n",
    "summary.info()"
   ]
  },
  {
   "cell_type": "code",
   "execution_count": null,
   "metadata": {},
   "outputs": [],
   "source": [
    "# sns.set_style(\"ticks\")\n",
    "# sns.set_style(\"darkgrid\", {\"axes.facecolor\": \".9\"})\n",
    "# sns.set_style(\"whitegrid\")\n",
    "sns.set_style(\"darkgrid\")"
   ]
  },
  {
   "cell_type": "code",
   "execution_count": null,
   "metadata": {},
   "outputs": [],
   "source": [
    "loss_train = summary['train_loss']\n",
    "loss_val = summary['val_loss']\n",
    "epochs = summary.index\n",
    "\n",
    "figure = plt.figure(figsize=(8, 5))\n",
    "\n",
    "plt.xticks(list(summary.index))\n",
    "\n",
    "plt.plot(epochs, loss_train, label='Training loss')\n",
    "plt.plot(epochs, loss_val, label='Validation loss')\n",
    "\n",
    "plt.title('Training and Validation loss')\n",
    "plt.xlabel('Epochs')\n",
    "plt.ylabel('Loss')\n",
    "plt.legend()\n",
    "\n",
    "plt.show()"
   ]
  },
  {
   "cell_type": "code",
   "execution_count": null,
   "metadata": {},
   "outputs": [],
   "source": [
    "# plt.figure(figsize=(8, 5))\n",
    "\n",
    "# plt.xticks(list(summary.index))\n",
    "# plt.yticks(np.arange(0, 1.1, 0.1))\n",
    "# plt.ylim(0, 1)\n",
    "\n",
    "# plt.title('Training and Validation loss')\n",
    "# plt.xlabel('Epochs')\n",
    "# plt.ylabel('Loss')\n",
    "\n",
    "# sns.lineplot(\n",
    "#     data=summary[['train_acc', 'val_acc']], dashes=False\n",
    "# )\n",
    "\n",
    "# plt.show()"
   ]
  },
  {
   "cell_type": "code",
   "execution_count": null,
   "metadata": {},
   "outputs": [],
   "source": [
    "loss_train = summary['train_acc']\n",
    "loss_val = summary['val_acc']\n",
    "epochs = list(summary.index)\n",
    "\n",
    "figure = plt.figure(figsize=(8, 5))\n",
    "\n",
    "plt.xticks(list(summary.index))\n",
    "plt.yticks(np.arange(0, 1.1, 0.1))\n",
    "plt.ylim(0, 1)\n",
    "\n",
    "plt.plot(epochs, loss_train, label='Training accuracy')\n",
    "plt.plot(epochs, loss_val, label='Validation accuracy')\n",
    "\n",
    "plt.title('Training and Validation accuracy')\n",
    "plt.xlabel('Epochs')\n",
    "plt.ylabel('Accuracy')\n",
    "plt.legend()\n",
    "\n",
    "plt.show()"
   ]
  },
  {
   "cell_type": "code",
   "execution_count": null,
   "metadata": {},
   "outputs": [],
   "source": []
  }
 ],
 "metadata": {
  "kernelspec": {
   "display_name": "Python 3",
   "language": "python",
   "name": "python3"
  },
  "language_info": {
   "codemirror_mode": {
    "name": "ipython",
    "version": 3
   },
   "file_extension": ".py",
   "mimetype": "text/x-python",
   "name": "python",
   "nbconvert_exporter": "python",
   "pygments_lexer": "ipython3",
   "version": "3.8.6"
  }
 },
 "nbformat": 4,
 "nbformat_minor": 4
}
