{
 "cells": [
  {
   "cell_type": "markdown",
   "metadata": {},
   "source": [
    "# Time Calculator\n",
    "Calculates total time needed given the time needed per log"
   ]
  },
  {
   "cell_type": "code",
   "execution_count": 2,
   "metadata": {},
   "outputs": [],
   "source": [
    "import datetime\n",
    "from pathlib import Path"
   ]
  },
  {
   "cell_type": "code",
   "execution_count": 3,
   "metadata": {},
   "outputs": [],
   "source": [
    "log_path = Path('D:') / 'logs'"
   ]
  },
  {
   "cell_type": "code",
   "execution_count": 5,
   "metadata": {},
   "outputs": [
    {
     "name": "stdout",
     "output_type": "stream",
     "text": [
      "2009 - 80156\n",
      "2010 - 149606\n",
      "2011 - 217011\n",
      "2012 - 263589\n",
      "2013 - 250790\n",
      "2014 - 244154\n",
      "2015 - 249916\n",
      "2016 - 252064\n",
      "2017 - 251966\n",
      "2018 - 267801\n",
      "2019 - 279272\n"
     ]
    }
   ],
   "source": [
    "year_num_logs = {}\n",
    "for year in log_path.iterdir():\n",
    "    total_year_logs = len([ll for ll in year.iterdir()])\n",
    "    year_num_logs[year.stem] = total_year_logs\n",
    "\n",
    "for year, total_logs in year_num_logs.items():\n",
    "    print(\"{} - {}\".format(year, total_logs))"
   ]
  },
  {
   "cell_type": "code",
   "execution_count": 7,
   "metadata": {},
   "outputs": [
    {
     "name": "stdout",
     "output_type": "stream",
     "text": [
      "Time per log: 00:00:00:80\n",
      "2009  - 0:00:06.412480\n",
      "2010  - 0:00:11.968480\n",
      "2011  - 0:00:17.360880\n",
      "2012  - 0:00:21.087120\n",
      "2013  - 0:00:20.063200\n",
      "2014  - 0:00:19.532320\n",
      "2015  - 0:00:19.993280\n",
      "2016  - 0:00:20.165120\n",
      "2017  - 0:00:20.157280\n",
      "2018  - 0:00:21.424080\n",
      "2019  - 0:00:22.341760\n",
      "Total - 0:03:20.506000\n"
     ]
    }
   ],
   "source": [
    "time_cost = '00:00:00:80' # hh:mm:ss:ms\n",
    "\n",
    "years = [\n",
    "    '2009',\n",
    "    '2010',\n",
    "    '2011',\n",
    "    '2012',\n",
    "    '2013',\n",
    "    '2014',\n",
    "    '2015',\n",
    "    '2016',\n",
    "    '2017',\n",
    "    '2018',\n",
    "    '2019',\n",
    "]\n",
    "\n",
    "total_time = datetime.timedelta()\n",
    "print(\"Time per log:\", time_cost)\n",
    "\n",
    "for year in years:\n",
    "    (h, m, s, ms) = time_cost.split(':')\n",
    "    d = datetime.timedelta(hours=int(h), minutes=int(m), seconds=int(s), microseconds=int(ms)) * year_num_logs[year]\n",
    "    total_time += d\n",
    "    print(\"{}  - {}\".format(year, d))\n",
    "    \n",
    "print(\"Total - {}\".format(total_time))"
   ]
  },
  {
   "cell_type": "code",
   "execution_count": null,
   "metadata": {},
   "outputs": [],
   "source": []
  }
 ],
 "metadata": {
  "kernelspec": {
   "display_name": "Python 3",
   "language": "python",
   "name": "python3"
  },
  "language_info": {
   "codemirror_mode": {
    "name": "ipython",
    "version": 3
   },
   "file_extension": ".py",
   "mimetype": "text/x-python",
   "name": "python",
   "nbconvert_exporter": "python",
   "pygments_lexer": "ipython3",
   "version": "3.8.5"
  }
 },
 "nbformat": 4,
 "nbformat_minor": 4
}
