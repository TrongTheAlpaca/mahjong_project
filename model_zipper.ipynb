{
 "cells": [
  {
   "cell_type": "code",
   "execution_count": 1,
   "metadata": {},
   "outputs": [],
   "source": [
    "from pathlib import Path\n",
    "import zipfile"
   ]
  },
  {
   "cell_type": "code",
   "execution_count": 3,
   "metadata": {},
   "outputs": [
    {
     "name": "stdout",
     "output_type": "stream",
     "text": [
      "FFO-POOL-2021-05-07\n",
      "MHA-34-POOL-2021-05-05\n"
     ]
    }
   ],
   "source": [
    "models_to_zip = [\n",
    "    'FFO-POOL-2021-05-07',\n",
    "    'MHA-34-POOL-2021-05-05'\n",
    "]\n",
    "\n",
    "CHECKPOINTS_PATH = Path('model_checkpoints')\n",
    "\n",
    "for model_name in models_to_zip:\n",
    "    print(model_name)\n",
    "    with zipfile.ZipFile('models.zip', 'a') as archive:\n",
    "        current_model_path = CHECKPOINTS_PATH / model_name\n",
    "        for f in current_model_path.iterdir():\n",
    "            archive.write(f, arcname=f\"{str(model_name)}/{f.name}\")"
   ]
  },
  {
   "cell_type": "code",
   "execution_count": null,
   "metadata": {},
   "outputs": [],
   "source": []
  }
 ],
 "metadata": {
  "kernelspec": {
   "display_name": "Python 3",
   "language": "python",
   "name": "python3"
  },
  "language_info": {
   "codemirror_mode": {
    "name": "ipython",
    "version": 3
   },
   "file_extension": ".py",
   "mimetype": "text/x-python",
   "name": "python",
   "nbconvert_exporter": "python",
   "pygments_lexer": "ipython3",
   "version": "3.8.6"
  }
 },
 "nbformat": 4,
 "nbformat_minor": 4
}
