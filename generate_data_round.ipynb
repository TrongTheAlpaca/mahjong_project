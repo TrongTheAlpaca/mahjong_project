{
 "cells": [
  {
   "cell_type": "code",
   "execution_count": 8,
   "metadata": {},
   "outputs": [],
   "source": [
    "from pathlib import Path\n",
    "import gc\n",
    "\n",
    "import pandas as pd\n",
    "\n",
    "import utilities.utilities as util\n",
    "\n",
    "pd.set_option('display.max_columns', 500)"
   ]
  },
  {
   "cell_type": "markdown",
   "metadata": {},
   "source": [
    "### Verify `fastparquet` is installed\n",
    "We will need `fastparquet` to store Pandas DataFrame with string categorial data. Note: `pyarrow` will not support this!\n",
    "If the following line crashes, install `snappy` and `fastparquet` through conda by executing: `conda install -c conda-forge python-snappy fastparquet snappy`"
   ]
  },
  {
   "cell_type": "code",
   "execution_count": 2,
   "metadata": {},
   "outputs": [
    {
     "data": {
      "text/plain": [
       "<pandas.io.parquet.FastParquetImpl at 0x22833267ee0>"
      ]
     },
     "execution_count": 2,
     "metadata": {},
     "output_type": "execute_result"
    }
   ],
   "source": [
    "pd.io.parquet.get_engine('fastparquet')  # if this line crash, run 'conda install -c conda-forge python-snappy fastparquet snappy'"
   ]
  },
  {
   "cell_type": "code",
   "execution_count": 3,
   "metadata": {},
   "outputs": [
    {
     "name": "stdout",
     "output_type": "stream",
     "text": [
      "\n",
      "INSTALLED VERSIONS\n",
      "------------------\n",
      "commit           : db08276bc116c438d3fdee492026f8223584c477\n",
      "python           : 3.8.5.final.0\n",
      "python-bits      : 64\n",
      "OS               : Windows\n",
      "OS-release       : 10\n",
      "Version          : 10.0.19041\n",
      "machine          : AMD64\n",
      "processor        : Intel64 Family 6 Model 158 Stepping 9, GenuineIntel\n",
      "byteorder        : little\n",
      "LC_ALL           : None\n",
      "LANG             : None\n",
      "LOCALE           : English_United States.1252\n",
      "\n",
      "pandas           : 1.1.3\n",
      "numpy            : 1.19.2\n",
      "pytz             : 2020.1\n",
      "dateutil         : 2.8.1\n",
      "pip              : 20.2.4\n",
      "setuptools       : 50.3.1.post20201107\n",
      "Cython           : 0.29.21\n",
      "pytest           : 6.1.1\n",
      "hypothesis       : None\n",
      "sphinx           : 3.2.1\n",
      "blosc            : None\n",
      "feather          : None\n",
      "xlsxwriter       : 1.3.7\n",
      "lxml.etree       : 4.6.1\n",
      "html5lib         : 1.1\n",
      "pymysql          : None\n",
      "psycopg2         : None\n",
      "jinja2           : 2.11.2\n",
      "IPython          : 7.19.0\n",
      "pandas_datareader: None\n",
      "bs4              : 4.9.3\n",
      "bottleneck       : 1.3.2\n",
      "fsspec           : 0.8.3\n",
      "fastparquet      : 0.5.0\n",
      "gcsfs            : None\n",
      "matplotlib       : 3.3.2\n",
      "numexpr          : 2.7.1\n",
      "odfpy            : None\n",
      "openpyxl         : 3.0.5\n",
      "pandas_gbq       : None\n",
      "pyarrow          : 3.0.0\n",
      "pytables         : None\n",
      "pyxlsb           : None\n",
      "s3fs             : None\n",
      "scipy            : 1.5.2\n",
      "sqlalchemy       : 1.3.20\n",
      "tables           : 3.6.1\n",
      "tabulate         : None\n",
      "xarray           : None\n",
      "xlrd             : 1.2.0\n",
      "xlwt             : 1.3.0\n",
      "numba            : 0.51.2\n"
     ]
    }
   ],
   "source": [
    "pd.show_versions()  # Verify: 'fastparquet : 0.5.0'"
   ]
  },
  {
   "cell_type": "code",
   "execution_count": 4,
   "metadata": {},
   "outputs": [],
   "source": [
    "# Force 'fastparquet'\n",
    "pd.set_option(\"io.parquet.engine\", 'fastparquet')  "
   ]
  },
  {
   "cell_type": "markdown",
   "metadata": {},
   "source": [
    "# Creating the Metatable"
   ]
  },
  {
   "cell_type": "code",
   "execution_count": 6,
   "metadata": {},
   "outputs": [],
   "source": [
    "# Change paths accordingly\n",
    "logs_path = Path('D:') / 'logs'\n",
    "output_path = Path('meta_tables')\n",
    "output_path.mkdir(parents=True, exist_ok=True)"
   ]
  },
  {
   "cell_type": "markdown",
   "metadata": {},
   "source": [
    "### Generate MetaTable for each Year\n",
    "We will create a checkpoint for each year as a protection against running out of memory."
   ]
  },
  {
   "cell_type": "code",
   "execution_count": null,
   "metadata": {},
   "outputs": [],
   "source": [
    "years = util.get_all_logs_annually(logs_path)\n",
    "\n",
    "for year, logs in years:\n",
    "\n",
    "    rows = []\n",
    "\n",
    "    for log_json in logs:\n",
    "\n",
    "        log = json.load(log_json.open())\n",
    "\n",
    "        previous_dealer = 0  # Retained state per round\n",
    "        round_wind = 0\n",
    "        seat_wind = 0  # From player 0's POV\n",
    "\n",
    "        for round_number, actions in enumerate(log['rounds']):\n",
    "\n",
    "            init = actions.pop(0)\n",
    "            if init['tag'] != 'INIT':\n",
    "                raise Exception(f\"{log_json.name} does not have INIT!\")\n",
    "\n",
    "            # Check if dealership has been transferred\n",
    "            current_dealer = int(init['data']['oya'])\n",
    "            if previous_dealer != current_dealer:\n",
    "                previous_dealer = current_dealer\n",
    "\n",
    "                # Check if game has completed a full circle\n",
    "                if current_dealer == 0:\n",
    "                    round_wind += 1\n",
    "                    if round_wind > 3:\n",
    "                        round_wind = 0\n",
    "                # round_wind, seat_wind = next_seat_wind(round_wind, seat_wind)\n",
    "\n",
    "            # Check if there's any winners or exhaustive/abortive draw\n",
    "            winner = -1\n",
    "            if actions[-1]['tag'] == 'AGARI':\n",
    "                winner = actions[-1]['data']['winner']\n",
    "\n",
    "            # Scores\n",
    "            scores = init['data']['scores']\n",
    "            end_scores = actions[-1]['data']['scores']\n",
    "\n",
    "            # Row Creation\n",
    "            rows.append({\n",
    "                'log_id': log_json.stem,\n",
    "                'round': round_number,\n",
    "\n",
    "                'round_wind': round_wind,\n",
    "                'dealer': current_dealer,\n",
    "                'winner': winner,\n",
    "\n",
    "                # 'seat_wind': seat_wind,\n",
    "\n",
    "                'honba': init['data']['combo'],\n",
    "                'riichibo': init['data']['reach'],\n",
    "\n",
    "\n",
    "                'p0_start_score': scores[0],\n",
    "                'p1_start_score': scores[1],\n",
    "                'p2_start_score': scores[2],\n",
    "                'p3_start_score': scores[3],\n",
    "\n",
    "                'p0_end_score': end_scores[0],\n",
    "                'p1_end_score': end_scores[1],\n",
    "                'p2_end_score': end_scores[2],\n",
    "                'p3_end_score': end_scores[3],\n",
    "            })\n",
    "\n",
    "    df = pd.DataFrame(rows)\n",
    "    df.to_parquet(output_path / f'{year}.parquet', engine='fastparquet')\n",
    "    df = None\n",
    "    gc.collect()  # Potentially get some memory back"
   ]
  },
  {
   "cell_type": "markdown",
   "metadata": {},
   "source": [
    "## Merge all MetaTables into a single DataFrame"
   ]
  },
  {
   "cell_type": "code",
   "execution_count": null,
   "metadata": {},
   "outputs": [],
   "source": [
    "dataframes = [pd.read_parquet(mt) for mt in output_path.iterdir()]\n",
    "accumulated = pd.concat(dataframes)"
   ]
  },
  {
   "cell_type": "code",
   "execution_count": 9,
   "metadata": {},
   "outputs": [
    {
     "data": {
      "text/plain": [
       "Index             420008141\n",
       "round_wind        184902080\n",
       "dealer            184902080\n",
       "winner            184902080\n",
       "honba             184902080\n",
       "riichibo          184902080\n",
       "p0_start_score    184902080\n",
       "p1_start_score    184902080\n",
       "p2_start_score    184902080\n",
       "p3_start_score    184902080\n",
       "p0_end_score      184902080\n",
       "p1_end_score      184902080\n",
       "p2_end_score      184902080\n",
       "p3_end_score      184902080\n",
       "dtype: int64"
      ]
     },
     "execution_count": 9,
     "metadata": {},
     "output_type": "execute_result"
    }
   ],
   "source": [
    "accumulated.memory_usage(deep=True)"
   ]
  },
  {
   "cell_type": "code",
   "execution_count": 10,
   "metadata": {},
   "outputs": [
    {
     "name": "stdout",
     "output_type": "stream",
     "text": [
      "<class 'pandas.core.frame.DataFrame'>\n",
      "MultiIndex: 23112760 entries, ('2009020103gm-00a9-0000-2453a04c', 0) to ('2019123123gm-00e1-0000-f7f33877', 4)\n",
      "Data columns (total 13 columns):\n",
      " #   Column          Dtype\n",
      "---  ------          -----\n",
      " 0   round_wind      int64\n",
      " 1   dealer          int64\n",
      " 2   winner          int64\n",
      " 3   honba           int64\n",
      " 4   riichibo        int64\n",
      " 5   p0_start_score  int64\n",
      " 6   p1_start_score  int64\n",
      " 7   p2_start_score  int64\n",
      " 8   p3_start_score  int64\n",
      " 9   p0_end_score    int64\n",
      " 10  p1_end_score    int64\n",
      " 11  p2_end_score    int64\n",
      " 12  p3_end_score    int64\n",
      "dtypes: int64(13)\n",
      "memory usage: 2.4+ GB\n"
     ]
    }
   ],
   "source": [
    "accumulated.info()"
   ]
  },
  {
   "cell_type": "markdown",
   "metadata": {},
   "source": [
    "#### Change Column Type to lower memory usage\n",
    "We want to lower the memory usage by our Merged MetaTable DataFrame, from about 2 GB -> 1 GB."
   ]
  },
  {
   "cell_type": "code",
   "execution_count": 11,
   "metadata": {},
   "outputs": [],
   "source": [
    "accumulated.reset_index(inplace=True)\n",
    "\n",
    "accumulated['log_id'] = accumulated['log_id'].astype('category')\n",
    "accumulated['round'] = accumulated['round'].astype('category')\n",
    "\n",
    "categorical_cols = ['round_wind', 'dealer', 'winner']\n",
    "accumulated[categorical_cols] = accumulated[categorical_cols].astype('category')\n",
    "\n",
    "cols = ['honba', 'riichibo']\n",
    "for col in cols:\n",
    "    accumulated[col] = pd.to_numeric(accumulated[col], downcast='unsigned')\n",
    "\n",
    "for i in range(4):\n",
    "    accumulated[f'p{i}_start_score'] = pd.to_numeric(accumulated[f'p{i}_start_score'], downcast='integer')\n",
    "    accumulated[f'p{i}_end_score'] = pd.to_numeric(accumulated[f'p{i}_end_score'], downcast='integer')\n",
    "\n",
    "accumulated.set_index(['log_id', 'round'], inplace=True)  # Create MultiIndex"
   ]
  },
  {
   "cell_type": "code",
   "execution_count": 12,
   "metadata": {},
   "outputs": [
    {
     "data": {
      "text/plain": [
       "Index             430033475\n",
       "round_wind         23112952\n",
       "dealer             23112952\n",
       "winner             23112960\n",
       "honba              23112760\n",
       "riichibo           23112760\n",
       "p0_start_score     92451040\n",
       "p1_start_score     92451040\n",
       "p2_start_score     92451040\n",
       "p3_start_score     92451040\n",
       "p0_end_score       92451040\n",
       "p1_end_score       92451040\n",
       "p2_end_score       92451040\n",
       "p3_end_score       92451040\n",
       "dtype: int64"
      ]
     },
     "execution_count": 12,
     "metadata": {},
     "output_type": "execute_result"
    }
   ],
   "source": [
    "accumulated.memory_usage(deep=True)"
   ]
  },
  {
   "cell_type": "code",
   "execution_count": 13,
   "metadata": {},
   "outputs": [
    {
     "name": "stdout",
     "output_type": "stream",
     "text": [
      "<class 'pandas.core.frame.DataFrame'>\n",
      "MultiIndex: 23112760 entries, ('2009020103gm-00a9-0000-2453a04c', 0) to ('2019123123gm-00e1-0000-f7f33877', 4)\n",
      "Data columns (total 13 columns):\n",
      " #   Column          Dtype   \n",
      "---  ------          -----   \n",
      " 0   round_wind      category\n",
      " 1   dealer          category\n",
      " 2   winner          category\n",
      " 3   honba           uint8   \n",
      " 4   riichibo        uint8   \n",
      " 5   p0_start_score  int32   \n",
      " 6   p1_start_score  int32   \n",
      " 7   p2_start_score  int32   \n",
      " 8   p3_start_score  int32   \n",
      " 9   p0_end_score    int32   \n",
      " 10  p1_end_score    int32   \n",
      " 11  p2_end_score    int32   \n",
      " 12  p3_end_score    int32   \n",
      "dtypes: category(3), int32(8), uint8(2)\n",
      "memory usage: 1.0 GB\n"
     ]
    }
   ],
   "source": [
    "accumulated.info()"
   ]
  },
  {
   "cell_type": "code",
   "execution_count": 14,
   "metadata": {},
   "outputs": [],
   "source": [
    "accumulated.to_parquet(Path('E:') / 'mahjong' / 'pandas' / 'log_round_meta.parquet', engine='fastparquet')"
   ]
  },
  {
   "cell_type": "markdown",
   "metadata": {},
   "source": [
    "### Test if newly created optimized version works"
   ]
  },
  {
   "cell_type": "code",
   "execution_count": 4,
   "metadata": {},
   "outputs": [],
   "source": [
    "accumulated = pd.read_parquet(Path('E:') / 'mahjong' / 'pandas' / 'log_round_meta.parquet', engine='fastparquet')"
   ]
  },
  {
   "cell_type": "code",
   "execution_count": 5,
   "metadata": {},
   "outputs": [
    {
     "name": "stdout",
     "output_type": "stream",
     "text": [
      "<class 'pandas.core.frame.DataFrame'>\n",
      "MultiIndex: 23112760 entries, ('2009020103gm-00a9-0000-2453a04c', 0) to ('2019123123gm-00e1-0000-f7f33877', 4)\n",
      "Data columns (total 13 columns):\n",
      " #   Column          Dtype   \n",
      "---  ------          -----   \n",
      " 0   round_wind      category\n",
      " 1   dealer          category\n",
      " 2   winner          category\n",
      " 3   honba           uint8   \n",
      " 4   riichibo        uint8   \n",
      " 5   p0_start_score  int32   \n",
      " 6   p1_start_score  int32   \n",
      " 7   p2_start_score  int32   \n",
      " 8   p3_start_score  int32   \n",
      " 9   p0_end_score    int32   \n",
      " 10  p1_end_score    int32   \n",
      " 11  p2_end_score    int32   \n",
      " 12  p3_end_score    int32   \n",
      "dtypes: category(3), int32(8), uint8(2)\n",
      "memory usage: 1011.0+ MB\n"
     ]
    }
   ],
   "source": [
    "accumulated.info()"
   ]
  },
  {
   "cell_type": "code",
   "execution_count": 8,
   "metadata": {},
   "outputs": [
    {
     "data": {
      "text/plain": [
       "round_wind            0\n",
       "dealer                2\n",
       "winner                3\n",
       "honba                 0\n",
       "riichibo              0\n",
       "p0_start_score    16400\n",
       "p1_start_score    45900\n",
       "p2_start_score    13400\n",
       "p3_start_score    24300\n",
       "p0_end_score      16400\n",
       "p1_end_score      45900\n",
       "p2_end_score      13400\n",
       "p3_end_score      24300\n",
       "Name: (2019123123gm-00e1-0000-f7f33877, 3), dtype: int64"
      ]
     },
     "execution_count": 8,
     "metadata": {},
     "output_type": "execute_result"
    }
   ],
   "source": [
    "accumulated.loc['2019123123gm-00e1-0000-f7f33877', 3]  # Accessing MultiIndexed"
   ]
  },
  {
   "cell_type": "code",
   "execution_count": 9,
   "metadata": {},
   "outputs": [
    {
     "data": {
      "text/plain": [
       "(23112760, 13)"
      ]
     },
     "execution_count": 9,
     "metadata": {},
     "output_type": "execute_result"
    }
   ],
   "source": [
    "accumulated.shape"
   ]
  },
  {
   "cell_type": "code",
   "execution_count": 10,
   "metadata": {},
   "outputs": [
    {
     "data": {
      "text/html": [
       "<div>\n",
       "<style scoped>\n",
       "    .dataframe tbody tr th:only-of-type {\n",
       "        vertical-align: middle;\n",
       "    }\n",
       "\n",
       "    .dataframe tbody tr th {\n",
       "        vertical-align: top;\n",
       "    }\n",
       "\n",
       "    .dataframe thead th {\n",
       "        text-align: right;\n",
       "    }\n",
       "</style>\n",
       "<table border=\"1\" class=\"dataframe\">\n",
       "  <thead>\n",
       "    <tr style=\"text-align: right;\">\n",
       "      <th></th>\n",
       "      <th></th>\n",
       "      <th>round_wind</th>\n",
       "      <th>dealer</th>\n",
       "      <th>winner</th>\n",
       "      <th>honba</th>\n",
       "      <th>riichibo</th>\n",
       "      <th>p0_start_score</th>\n",
       "      <th>p1_start_score</th>\n",
       "      <th>p2_start_score</th>\n",
       "      <th>p3_start_score</th>\n",
       "      <th>p0_end_score</th>\n",
       "      <th>p1_end_score</th>\n",
       "      <th>p2_end_score</th>\n",
       "      <th>p3_end_score</th>\n",
       "    </tr>\n",
       "    <tr>\n",
       "      <th>log_id</th>\n",
       "      <th>round</th>\n",
       "      <th></th>\n",
       "      <th></th>\n",
       "      <th></th>\n",
       "      <th></th>\n",
       "      <th></th>\n",
       "      <th></th>\n",
       "      <th></th>\n",
       "      <th></th>\n",
       "      <th></th>\n",
       "      <th></th>\n",
       "      <th></th>\n",
       "      <th></th>\n",
       "      <th></th>\n",
       "    </tr>\n",
       "  </thead>\n",
       "  <tbody>\n",
       "    <tr>\n",
       "      <th rowspan=\"5\" valign=\"top\">2009020103gm-00a9-0000-2453a04c</th>\n",
       "      <th>0</th>\n",
       "      <td>0</td>\n",
       "      <td>0</td>\n",
       "      <td>-1</td>\n",
       "      <td>0</td>\n",
       "      <td>0</td>\n",
       "      <td>25000</td>\n",
       "      <td>25000</td>\n",
       "      <td>25000</td>\n",
       "      <td>25000</td>\n",
       "      <td>25000</td>\n",
       "      <td>25000</td>\n",
       "      <td>25000</td>\n",
       "      <td>25000</td>\n",
       "    </tr>\n",
       "    <tr>\n",
       "      <th>1</th>\n",
       "      <td>0</td>\n",
       "      <td>1</td>\n",
       "      <td>-1</td>\n",
       "      <td>1</td>\n",
       "      <td>0</td>\n",
       "      <td>25000</td>\n",
       "      <td>25000</td>\n",
       "      <td>25000</td>\n",
       "      <td>25000</td>\n",
       "      <td>25000</td>\n",
       "      <td>25000</td>\n",
       "      <td>25000</td>\n",
       "      <td>25000</td>\n",
       "    </tr>\n",
       "    <tr>\n",
       "      <th>2</th>\n",
       "      <td>0</td>\n",
       "      <td>2</td>\n",
       "      <td>-1</td>\n",
       "      <td>2</td>\n",
       "      <td>0</td>\n",
       "      <td>25000</td>\n",
       "      <td>25000</td>\n",
       "      <td>25000</td>\n",
       "      <td>25000</td>\n",
       "      <td>25000</td>\n",
       "      <td>25000</td>\n",
       "      <td>25000</td>\n",
       "      <td>25000</td>\n",
       "    </tr>\n",
       "    <tr>\n",
       "      <th>3</th>\n",
       "      <td>0</td>\n",
       "      <td>3</td>\n",
       "      <td>-1</td>\n",
       "      <td>3</td>\n",
       "      <td>0</td>\n",
       "      <td>25000</td>\n",
       "      <td>25000</td>\n",
       "      <td>25000</td>\n",
       "      <td>25000</td>\n",
       "      <td>25000</td>\n",
       "      <td>25000</td>\n",
       "      <td>25000</td>\n",
       "      <td>25000</td>\n",
       "    </tr>\n",
       "    <tr>\n",
       "      <th>4</th>\n",
       "      <td>1</td>\n",
       "      <td>0</td>\n",
       "      <td>-1</td>\n",
       "      <td>4</td>\n",
       "      <td>0</td>\n",
       "      <td>25000</td>\n",
       "      <td>25000</td>\n",
       "      <td>25000</td>\n",
       "      <td>25000</td>\n",
       "      <td>25000</td>\n",
       "      <td>25000</td>\n",
       "      <td>25000</td>\n",
       "      <td>25000</td>\n",
       "    </tr>\n",
       "    <tr>\n",
       "      <th>...</th>\n",
       "      <th>...</th>\n",
       "      <td>...</td>\n",
       "      <td>...</td>\n",
       "      <td>...</td>\n",
       "      <td>...</td>\n",
       "      <td>...</td>\n",
       "      <td>...</td>\n",
       "      <td>...</td>\n",
       "      <td>...</td>\n",
       "      <td>...</td>\n",
       "      <td>...</td>\n",
       "      <td>...</td>\n",
       "      <td>...</td>\n",
       "      <td>...</td>\n",
       "    </tr>\n",
       "    <tr>\n",
       "      <th rowspan=\"5\" valign=\"top\">2019123123gm-00e1-0000-f7f33877</th>\n",
       "      <th>0</th>\n",
       "      <td>0</td>\n",
       "      <td>0</td>\n",
       "      <td>3</td>\n",
       "      <td>0</td>\n",
       "      <td>0</td>\n",
       "      <td>25000</td>\n",
       "      <td>25000</td>\n",
       "      <td>25000</td>\n",
       "      <td>25000</td>\n",
       "      <td>25000</td>\n",
       "      <td>25000</td>\n",
       "      <td>25000</td>\n",
       "      <td>24000</td>\n",
       "    </tr>\n",
       "    <tr>\n",
       "      <th>1</th>\n",
       "      <td>0</td>\n",
       "      <td>1</td>\n",
       "      <td>1</td>\n",
       "      <td>0</td>\n",
       "      <td>0</td>\n",
       "      <td>21100</td>\n",
       "      <td>23000</td>\n",
       "      <td>23000</td>\n",
       "      <td>32900</td>\n",
       "      <td>21100</td>\n",
       "      <td>22000</td>\n",
       "      <td>23000</td>\n",
       "      <td>32900</td>\n",
       "    </tr>\n",
       "    <tr>\n",
       "      <th>2</th>\n",
       "      <td>0</td>\n",
       "      <td>1</td>\n",
       "      <td>0</td>\n",
       "      <td>1</td>\n",
       "      <td>0</td>\n",
       "      <td>13100</td>\n",
       "      <td>47000</td>\n",
       "      <td>15000</td>\n",
       "      <td>24900</td>\n",
       "      <td>13100</td>\n",
       "      <td>47000</td>\n",
       "      <td>14000</td>\n",
       "      <td>24900</td>\n",
       "    </tr>\n",
       "    <tr>\n",
       "      <th>3</th>\n",
       "      <td>0</td>\n",
       "      <td>2</td>\n",
       "      <td>3</td>\n",
       "      <td>0</td>\n",
       "      <td>0</td>\n",
       "      <td>16400</td>\n",
       "      <td>45900</td>\n",
       "      <td>13400</td>\n",
       "      <td>24300</td>\n",
       "      <td>16400</td>\n",
       "      <td>45900</td>\n",
       "      <td>13400</td>\n",
       "      <td>24300</td>\n",
       "    </tr>\n",
       "    <tr>\n",
       "      <th>4</th>\n",
       "      <td>0</td>\n",
       "      <td>3</td>\n",
       "      <td>0</td>\n",
       "      <td>0</td>\n",
       "      <td>0</td>\n",
       "      <td>16400</td>\n",
       "      <td>45900</td>\n",
       "      <td>12100</td>\n",
       "      <td>25600</td>\n",
       "      <td>16400</td>\n",
       "      <td>45900</td>\n",
       "      <td>12100</td>\n",
       "      <td>25600</td>\n",
       "    </tr>\n",
       "  </tbody>\n",
       "</table>\n",
       "<p>23112760 rows × 13 columns</p>\n",
       "</div>"
      ],
      "text/plain": [
       "                                      round_wind dealer winner  honba  \\\n",
       "log_id                          round                                   \n",
       "2009020103gm-00a9-0000-2453a04c 0              0      0     -1      0   \n",
       "                                1              0      1     -1      1   \n",
       "                                2              0      2     -1      2   \n",
       "                                3              0      3     -1      3   \n",
       "                                4              1      0     -1      4   \n",
       "...                                          ...    ...    ...    ...   \n",
       "2019123123gm-00e1-0000-f7f33877 0              0      0      3      0   \n",
       "                                1              0      1      1      0   \n",
       "                                2              0      1      0      1   \n",
       "                                3              0      2      3      0   \n",
       "                                4              0      3      0      0   \n",
       "\n",
       "                                       riichibo  p0_start_score  \\\n",
       "log_id                          round                             \n",
       "2009020103gm-00a9-0000-2453a04c 0             0           25000   \n",
       "                                1             0           25000   \n",
       "                                2             0           25000   \n",
       "                                3             0           25000   \n",
       "                                4             0           25000   \n",
       "...                                         ...             ...   \n",
       "2019123123gm-00e1-0000-f7f33877 0             0           25000   \n",
       "                                1             0           21100   \n",
       "                                2             0           13100   \n",
       "                                3             0           16400   \n",
       "                                4             0           16400   \n",
       "\n",
       "                                       p1_start_score  p2_start_score  \\\n",
       "log_id                          round                                   \n",
       "2009020103gm-00a9-0000-2453a04c 0               25000           25000   \n",
       "                                1               25000           25000   \n",
       "                                2               25000           25000   \n",
       "                                3               25000           25000   \n",
       "                                4               25000           25000   \n",
       "...                                               ...             ...   \n",
       "2019123123gm-00e1-0000-f7f33877 0               25000           25000   \n",
       "                                1               23000           23000   \n",
       "                                2               47000           15000   \n",
       "                                3               45900           13400   \n",
       "                                4               45900           12100   \n",
       "\n",
       "                                       p3_start_score  p0_end_score  \\\n",
       "log_id                          round                                 \n",
       "2009020103gm-00a9-0000-2453a04c 0               25000         25000   \n",
       "                                1               25000         25000   \n",
       "                                2               25000         25000   \n",
       "                                3               25000         25000   \n",
       "                                4               25000         25000   \n",
       "...                                               ...           ...   \n",
       "2019123123gm-00e1-0000-f7f33877 0               25000         25000   \n",
       "                                1               32900         21100   \n",
       "                                2               24900         13100   \n",
       "                                3               24300         16400   \n",
       "                                4               25600         16400   \n",
       "\n",
       "                                       p1_end_score  p2_end_score  \\\n",
       "log_id                          round                               \n",
       "2009020103gm-00a9-0000-2453a04c 0             25000         25000   \n",
       "                                1             25000         25000   \n",
       "                                2             25000         25000   \n",
       "                                3             25000         25000   \n",
       "                                4             25000         25000   \n",
       "...                                             ...           ...   \n",
       "2019123123gm-00e1-0000-f7f33877 0             25000         25000   \n",
       "                                1             22000         23000   \n",
       "                                2             47000         14000   \n",
       "                                3             45900         13400   \n",
       "                                4             45900         12100   \n",
       "\n",
       "                                       p3_end_score  \n",
       "log_id                          round                \n",
       "2009020103gm-00a9-0000-2453a04c 0             25000  \n",
       "                                1             25000  \n",
       "                                2             25000  \n",
       "                                3             25000  \n",
       "                                4             25000  \n",
       "...                                             ...  \n",
       "2019123123gm-00e1-0000-f7f33877 0             24000  \n",
       "                                1             32900  \n",
       "                                2             24900  \n",
       "                                3             24300  \n",
       "                                4             25600  \n",
       "\n",
       "[23112760 rows x 13 columns]"
      ]
     },
     "execution_count": 10,
     "metadata": {},
     "output_type": "execute_result"
    }
   ],
   "source": [
    "accumulated"
   ]
  }
 ],
 "metadata": {
  "kernelspec": {
   "display_name": "Python 3",
   "language": "python",
   "name": "python3"
  },
  "language_info": {
   "codemirror_mode": {
    "name": "ipython",
    "version": 3
   },
   "file_extension": ".py",
   "mimetype": "text/x-python",
   "name": "python",
   "nbconvert_exporter": "python",
   "pygments_lexer": "ipython3",
   "version": "3.8.5"
  }
 },
 "nbformat": 4,
 "nbformat_minor": 4
}
