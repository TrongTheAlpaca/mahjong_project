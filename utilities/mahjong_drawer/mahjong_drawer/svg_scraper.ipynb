{
 "cells": [
  {
   "cell_type": "code",
   "execution_count": 1,
   "metadata": {},
   "outputs": [],
   "source": [
    "pages = [\n",
    "    \"https://commons.wikimedia.org/w/index.php?title=Category:SVG_Oblique_illustrations_of_Mahjong_tiles&fileuntil=MJs3-y.svg#mw-category-media\",\n",
    "    \"https://commons.wikimedia.org/w/index.php?title=Category:SVG_Oblique_illustrations_of_Mahjong_tiles&filefrom=MJs3-y.svg#mw-category-media\"\n",
    "]"
   ]
  },
  {
   "cell_type": "code",
   "execution_count": 2,
   "metadata": {},
   "outputs": [],
   "source": [
    "import os\n",
    "import requests\n",
    "from bs4 import BeautifulSoup"
   ]
  },
  {
   "cell_type": "code",
   "execution_count": 3,
   "metadata": {},
   "outputs": [],
   "source": [
    "FILE_URL = \"https://commons.wikimedia.org\"\n",
    "\n",
    "all_file_links = set()\n",
    "\n",
    "# download wikipage\n",
    "for page in pages:\n",
    "    result = requests.get(page)\n",
    "\n",
    "    # if successful parse the download into a BeautifulSoup object, which allows easy manipulation \n",
    "    if result.status_code == 200:\n",
    "        soup = BeautifulSoup(result.content, \"html.parser\")\n",
    "    \n",
    "    # find the object with HTML class wikitable sortable\n",
    "    table = soup.find('ul', {'class':'gallery mw-gallery-traditional'})\n",
    "    for i, link in enumerate(table.find_all('a', href=True)):\n",
    "        full_url = FILE_URL + link.get('href')\n",
    "        if full_url.endswith('.svg'):\n",
    "            #print(i, full_url)\n",
    "            all_file_links.add(full_url)"
   ]
  },
  {
   "cell_type": "code",
   "execution_count": 4,
   "metadata": {},
   "outputs": [
    {
     "data": {
      "text/plain": [
       "375"
      ]
     },
     "execution_count": 4,
     "metadata": {},
     "output_type": "execute_result"
    }
   ],
   "source": [
    "len(all_file_links)"
   ]
  },
  {
   "cell_type": "code",
   "execution_count": 5,
   "metadata": {},
   "outputs": [],
   "source": [
    "from pathlib import Path\n",
    "\n",
    "dest_folder = Path(\"svg_original\")\n",
    "dest_folder.mkdir(exist_ok=True)\n",
    "    \n",
    "final_dest_folder = Path(\"svg\")\n",
    "final_dest_folder.mkdir(exist_ok=True)"
   ]
  },
  {
   "cell_type": "code",
   "execution_count": 6,
   "metadata": {},
   "outputs": [],
   "source": [
    "from tqdm import tqdm\n",
    "import re"
   ]
  },
  {
   "cell_type": "code",
   "execution_count": 7,
   "metadata": {},
   "outputs": [
    {
     "name": "stderr",
     "output_type": "stream",
     "text": [
      " 23%|##2       | 86/375 [00:31<01:40,  2.87it/s]"
     ]
    },
    {
     "name": "stdout",
     "output_type": "stream",
     "text": [
      "Error:  MJs2%3D.svg\n",
      "Error:  MJs2%3D.svg\n",
      "Error:  MJs2%3D.svg\n"
     ]
    },
    {
     "name": "stderr",
     "output_type": "stream",
     "text": [
      " 23%|##3       | 87/375 [00:32<02:14,  2.13it/s]"
     ]
    },
    {
     "name": "stdout",
     "output_type": "stream",
     "text": [
      "Error:  MJh2-z.svg\n",
      "Error:  MJh2-z.svg\n",
      "Error:  MJh2-z.svg\n",
      "Error:  MJh2-z.svg\n",
      "Error:  MJh2-z.svg\n"
     ]
    },
    {
     "name": "stderr",
     "output_type": "stream",
     "text": [
      " 23%|##3       | 88/375 [00:33<03:02,  1.58it/s]"
     ]
    },
    {
     "name": "stdout",
     "output_type": "stream",
     "text": [
      "Error:  MJj6-.svg\n",
      "Error:  MJj6-.svg\n",
      "Error:  MJj6-.svg\n",
      "Error:  MJj6-.svg\n",
      "Error:  MJj6-.svg\n"
     ]
    },
    {
     "name": "stderr",
     "output_type": "stream",
     "text": [
      " 24%|##3       | 89/375 [00:34<03:34,  1.33it/s]"
     ]
    },
    {
     "name": "stdout",
     "output_type": "stream",
     "text": [
      "Error:  MJcl1-.svg\n",
      "Error:  MJcl1-.svg\n",
      "Error:  MJcl1-.svg\n",
      "Error:  MJcl1-.svg\n",
      "Error:  MJcl1-.svg\n"
     ]
    },
    {
     "name": "stderr",
     "output_type": "stream",
     "text": [
      " 25%|##5       | 94/375 [00:36<02:15,  2.07it/s]"
     ]
    },
    {
     "name": "stdout",
     "output_type": "stream",
     "text": [
      "Error:  MJany-y.svg\n",
      "Error:  MJany-y.svg\n",
      "Error:  MJany-y.svg\n",
      "Error:  MJany-y.svg\n",
      "Error:  MJany-y.svg\n"
     ]
    },
    {
     "name": "stderr",
     "output_type": "stream",
     "text": [
      " 25%|##5       | 95/375 [00:37<03:01,  1.54it/s]"
     ]
    },
    {
     "name": "stdout",
     "output_type": "stream",
     "text": [
      "Error:  MJt7r-y.svg\n",
      "Error:  MJt7r-y.svg\n",
      "Error:  MJt7r-y.svg\n",
      "Error:  MJt7r-y.svg\n",
      "Error:  MJt7r-y.svg\n"
     ]
    },
    {
     "name": "stderr",
     "output_type": "stream",
     "text": [
      " 30%|###       | 113/375 [00:44<01:52,  2.33it/s]"
     ]
    },
    {
     "name": "stdout",
     "output_type": "stream",
     "text": [
      "Error:  MJh3-z.svg\n",
      "Error:  MJh3-z.svg\n",
      "Error:  MJh3-z.svg\n"
     ]
    },
    {
     "name": "stderr",
     "output_type": "stream",
     "text": [
      " 31%|###1      | 118/375 [00:47<01:44,  2.47it/s]"
     ]
    },
    {
     "name": "stdout",
     "output_type": "stream",
     "text": [
      "Error:  MJhide%3D.svg\n",
      "Error:  MJhide%3D.svg\n",
      "Error:  MJhide%3D.svg\n"
     ]
    },
    {
     "name": "stderr",
     "output_type": "stream",
     "text": [
      " 41%|####      | 152/375 [00:59<01:20,  2.78it/s]"
     ]
    },
    {
     "name": "stdout",
     "output_type": "stream",
     "text": [
      "Error:  MJd2v1-x.svg\n",
      "Error:  MJd2v1-x.svg\n",
      "Error:  MJd2v1-x.svg\n"
     ]
    },
    {
     "name": "stderr",
     "output_type": "stream",
     "text": [
      " 41%|####1     | 154/375 [01:00<01:37,  2.27it/s]"
     ]
    },
    {
     "name": "stdout",
     "output_type": "stream",
     "text": [
      "Error:  MJany.svg\n",
      "Error:  MJany.svg\n",
      "Error:  MJany.svg\n"
     ]
    },
    {
     "name": "stderr",
     "output_type": "stream",
     "text": [
      " 42%|####1     | 156/375 [01:01<01:43,  2.12it/s]"
     ]
    },
    {
     "name": "stdout",
     "output_type": "stream",
     "text": [
      "Error:  MJt6-x.svg\n",
      "Error:  MJt6-x.svg\n",
      "Error:  MJt6-x.svg\n"
     ]
    },
    {
     "name": "stderr",
     "output_type": "stream",
     "text": [
      " 43%|####3     | 162/375 [01:04<01:23,  2.54it/s]"
     ]
    },
    {
     "name": "stdout",
     "output_type": "stream",
     "text": [
      "Error:  MJs4%3D.svg\n",
      "Error:  MJs4%3D.svg\n",
      "Error:  MJs4%3D.svg\n",
      "Error:  MJs4%3D.svg\n",
      "Error:  MJs4%3D.svg\n",
      "Error:  MJs4%3D.svg\n"
     ]
    },
    {
     "name": "stderr",
     "output_type": "stream",
     "text": [
      " 44%|####3     | 164/375 [01:05<01:52,  1.87it/s]"
     ]
    },
    {
     "name": "stdout",
     "output_type": "stream",
     "text": [
      "Error:  MJt7r%3D.svg\n",
      "Error:  MJt7r%3D.svg\n",
      "Error:  MJt7r%3D.svg\n"
     ]
    },
    {
     "name": "stderr",
     "output_type": "stream",
     "text": [
      " 61%|######1   | 230/375 [01:29<00:50,  2.87it/s]"
     ]
    },
    {
     "name": "stdout",
     "output_type": "stream",
     "text": [
      "Error:  MJf3%3D.svg\n",
      "Error:  MJf3%3D.svg\n",
      "Error:  MJf3%3D.svg\n"
     ]
    },
    {
     "name": "stderr",
     "output_type": "stream",
     "text": [
      " 64%|######3   | 239/375 [01:33<00:49,  2.73it/s]"
     ]
    },
    {
     "name": "stdout",
     "output_type": "stream",
     "text": [
      "Error:  MJw9r-.svg\n",
      "Error:  MJw9r-.svg\n"
     ]
    },
    {
     "name": "stderr",
     "output_type": "stream",
     "text": [
      " 64%|######4   | 240/375 [01:34<01:00,  2.23it/s]"
     ]
    },
    {
     "name": "stdout",
     "output_type": "stream",
     "text": [
      "Error:  MJs1%3D.svg\n",
      "Error:  MJs1%3D.svg\n",
      "Error:  MJs1%3D.svg\n",
      "Error:  MJs1%3D.svg\n",
      "Error:  MJs1%3D.svg\n",
      "Error:  MJs1%3D.svg\n"
     ]
    },
    {
     "name": "stderr",
     "output_type": "stream",
     "text": [
      " 64%|######4   | 241/375 [01:35<01:28,  1.51it/s]"
     ]
    },
    {
     "name": "stdout",
     "output_type": "stream",
     "text": [
      "Error:  MJt3-r%3D.svg\n",
      "Error:  MJt3-r%3D.svg\n",
      "Error:  MJt3-r%3D.svg\n",
      "Error:  MJt3-r%3D.svg\n",
      "Error:  MJt3-r%3D.svg\n"
     ]
    },
    {
     "name": "stderr",
     "output_type": "stream",
     "text": [
      " 67%|######6   | 251/375 [01:39<00:46,  2.69it/s]"
     ]
    },
    {
     "name": "stdout",
     "output_type": "stream",
     "text": [
      "Error:  MJd2v3-.svg\n",
      "Error:  MJd2v3-.svg\n",
      "Error:  MJd2v3-.svg\n"
     ]
    },
    {
     "name": "stderr",
     "output_type": "stream",
     "text": [
      " 68%|######7   | 254/375 [01:41<01:00,  2.01it/s]"
     ]
    },
    {
     "name": "stdout",
     "output_type": "stream",
     "text": [
      "Error:  MJw8-.svg\n",
      "Error:  MJw8-.svg\n",
      "Error:  MJw8-.svg\n",
      "Error:  MJw8-.svg\n",
      "Error:  MJw8-.svg\n"
     ]
    },
    {
     "name": "stderr",
     "output_type": "stream",
     "text": [
      " 68%|######8   | 255/375 [01:42<01:34,  1.27it/s]"
     ]
    },
    {
     "name": "stdout",
     "output_type": "stream",
     "text": [
      "Error:  MJs5r-%3D.svg\n",
      "Error:  MJs5r-%3D.svg\n"
     ]
    },
    {
     "name": "stderr",
     "output_type": "stream",
     "text": [
      " 69%|######8   | 257/375 [01:43<01:14,  1.59it/s]"
     ]
    },
    {
     "name": "stdout",
     "output_type": "stream",
     "text": [
      "Error:  MJt9%3D.svg\n",
      "Error:  MJt9%3D.svg\n"
     ]
    },
    {
     "name": "stderr",
     "output_type": "stream",
     "text": [
      "100%|##########| 375/375 [02:28<00:00,  2.53it/s]\n"
     ]
    }
   ],
   "source": [
    "for url in tqdm(all_file_links):\n",
    "    r = requests.get(url)\n",
    "    s = BeautifulSoup(r.content, \"html.parser\")\n",
    "    file_link = s.find(\"a\", href=re.compile(\"https://upload.wikimedia.org/wikipedia/commons\"))['href']\n",
    "    name = file_link.split('/')[-1]\n",
    "    if name.startswith('File:'):\n",
    "        name = file_link.split('File:')[-1]\n",
    "    while True:\n",
    "        \n",
    "        with open(dest_folder / name, 'wb') as f:\n",
    "            rr = requests.get(file_link, stream=True)\n",
    "            for chunk in rr.iter_content(chunk_size=1024):\n",
    "                if chunk:\n",
    "                    f.write(chunk)\n",
    "                    f.flush()\n",
    "                    os.fsync(f.fileno())\n",
    "        \n",
    "        if '<h1>Error</h1>' not in (dest_folder / name).read_text():\n",
    "            break\n",
    "        else:\n",
    "            print('Error: ', (dest_folder / name).name)"
   ]
  },
  {
   "cell_type": "markdown",
   "metadata": {},
   "source": [
    "# Renamer"
   ]
  },
  {
   "cell_type": "code",
   "execution_count": 8,
   "metadata": {},
   "outputs": [],
   "source": [
    "import shutil"
   ]
  },
  {
   "cell_type": "code",
   "execution_count": 9,
   "metadata": {},
   "outputs": [],
   "source": [
    "BACKSIDE = 'MJhide'\n",
    "UNKNOWN = 'MJxx'\n",
    "\n",
    "CIRCLE = 'MJt'\n",
    "CHARACTER = 'MJw'\n",
    "BAMBOO = 'MJs'\n",
    "\n",
    "DRAGON = 'MJd'\n",
    "RED = 'MJd1'\n",
    "GREEN = 'MJd2'\n",
    "WHITE = 'MJd3e'  # 'MJd3' with blue border, 'MJd3e' without\n",
    "\n",
    "WIND = 'MJf'\n",
    "EAST = 'MJf1'\n",
    "SOUTH = 'MJf2'\n",
    "WEST = 'MJf3'\n",
    "NORTH = 'MJf4'\n",
    "\n",
    "STANDING = '-'\n",
    "LIEING = '-x'\n",
    "STACKED = '%3D'\n",
    "UPSIDE_DOWN = '-y'\n",
    "LIEING_INVERSE = '-z'"
   ]
  },
  {
   "cell_type": "code",
   "execution_count": 10,
   "metadata": {},
   "outputs": [],
   "source": [
    "def tile_match(suit, alignment, string):\n",
    "    return re.match(rf\"^{suit}{alignment}$\", string)\n",
    "\n",
    "def simple_match(suit, alignment, string):\n",
    "    return re.match(rf\"^{suit}\\d{alignment}$\", string)\n",
    "\n",
    "def parse_simple_tile(input_prefix, output_prefix, file):\n",
    "\n",
    "    number = int(file.stem[len(input_prefix)])\n",
    "    \n",
    "    # SPECIFIC 1-sou we want!\n",
    "    if input_prefix == BAMBOO and number == 1:\n",
    "        if simple_match(input_prefix, 'b'+STANDING, file.stem):\n",
    "            shutil.copy(file, final_dest_folder / f\"tile_{output_prefix}{number}!.svg\")\n",
    "        elif simple_match(input_prefix, 'b'+LIEING, file.stem):\n",
    "            shutil.copy(file, final_dest_folder / f\"tile_{output_prefix}{number}-.svg\")\n",
    "        elif simple_match(input_prefix, 'b'+STACKED, file.stem):\n",
    "            shutil.copy(file, final_dest_folder / f\"tile_{output_prefix}{number}=.svg\")\n",
    "        elif simple_match(input_prefix, 'b'+UPSIDE_DOWN, file.stem):\n",
    "            shutil.copy(file, final_dest_folder / f\"tile_{output_prefix}{number}i.svg\")\n",
    "        elif simple_match(input_prefix, 'b'+LIEING_INVERSE, file.stem):\n",
    "            shutil.copy(file, final_dest_folder / f\"tile_{output_prefix}{number}~.svg\")\n",
    "    else:\n",
    "        if simple_match(input_prefix, STANDING, file.stem):\n",
    "            shutil.copy(file, final_dest_folder / f\"tile_{output_prefix}{number}!.svg\")\n",
    "        elif simple_match(input_prefix, LIEING, file.stem):\n",
    "            shutil.copy(file, final_dest_folder / f\"tile_{output_prefix}{number}-.svg\")\n",
    "        elif simple_match(input_prefix, STACKED, file.stem):\n",
    "            shutil.copy(file, final_dest_folder / f\"tile_{output_prefix}{number}=.svg\")\n",
    "        elif simple_match(input_prefix, UPSIDE_DOWN, file.stem):\n",
    "            shutil.copy(file, final_dest_folder / f\"tile_{output_prefix}{number}i.svg\")\n",
    "        elif simple_match(input_prefix, LIEING_INVERSE, file.stem):\n",
    "            shutil.copy(file, final_dest_folder / f\"tile_{output_prefix}{number}~.svg\")\n",
    "\n",
    "    \n",
    "def parse_akadora_tile(input_prefix, output_prefix, file):\n",
    "    \"\"\" PARSE RED 5-numbered TILES \"\"\"\n",
    "    \n",
    "    number = int(file.stem[len(input_prefix)])\n",
    "    \n",
    "    if number != 5:\n",
    "        return\n",
    "\n",
    "    if re.match(f\"^{input_prefix}\\d[r\\-]{STANDING}$\", file.stem):\n",
    "        shutil.copy(file, final_dest_folder / f\"tile_{output_prefix}0!.svg\")\n",
    "    \n",
    "    elif re.match(f\"^{input_prefix}\\d[r\\-]{LIEING}$\", file.stem):\n",
    "        shutil.copy(file, final_dest_folder / f\"tile_{output_prefix}0-.svg\")\n",
    "        \n",
    "    elif re.match(f\"^{input_prefix}\\d[r\\-]{UPSIDE_DOWN}$\", file.stem):\n",
    "        shutil.copy(file, final_dest_folder / f\"tile_{output_prefix}0i.svg\")\n",
    "    \n",
    "    elif re.match(f\"^{input_prefix}\\d[r\\-]{LIEING_INVERSE}$\", file.stem):\n",
    "        shutil.copy(file, final_dest_folder / f\"tile_{output_prefix}0~.svg\")\n",
    "        \n",
    "    elif re.match(f\"^{input_prefix}\\d[r\\-]{{1,2}}{STACKED}$\", file.stem):\n",
    "        \n",
    "        top = file.stem[len(input_prefix) + 1]\n",
    "        bot = file.stem[len(input_prefix) + 2]\n",
    "        red_status = '--'\n",
    "        \n",
    "        if top == 'r' and bot != '-':\n",
    "            red_status = '00'\n",
    "        elif top == 'r' and bot == '-':\n",
    "            red_status = '05'\n",
    "        elif top == '-' and bot == 'r':\n",
    "            red_status = '50'\n",
    "          \n",
    "        shutil.copy(file, final_dest_folder / f\"tile_{output_prefix}{red_status}.svg\")\n",
    "        \n",
    "\n",
    "def parse_honor_tile(input_prefix, output_prefix, file):\n",
    "    if tile_match(input_prefix, STANDING, file.stem):\n",
    "        shutil.copy(file, final_dest_folder / f\"tile_{output_prefix}!.svg\")\n",
    "    elif tile_match(input_prefix, LIEING, file.stem):\n",
    "        shutil.copy(file, final_dest_folder / f\"tile_{output_prefix}-.svg\")\n",
    "    elif tile_match(input_prefix, STACKED, file.stem):\n",
    "        shutil.copy(file, final_dest_folder / f\"tile_{output_prefix}=.svg\")\n",
    "    elif tile_match(input_prefix, UPSIDE_DOWN, file.stem):\n",
    "        shutil.copy(file, final_dest_folder / f\"tile_{output_prefix}i.svg\")\n",
    "    elif tile_match(input_prefix, LIEING_INVERSE, file.stem):\n",
    "        shutil.copy(file, final_dest_folder / f\"tile_{output_prefix}~.svg\")\n",
    "\n",
    "        \n",
    "def parse_back_tile(input_prefix, output_prefix, file):\n",
    "    if tile_match(input_prefix, '', file.stem):\n",
    "        shutil.copy(file, final_dest_folder / f\"tile_{output_prefix}!.svg\")\n",
    "    else:\n",
    "        parse_honor_tile(input_prefix, 'xb', file)"
   ]
  },
  {
   "cell_type": "code",
   "execution_count": 11,
   "metadata": {},
   "outputs": [],
   "source": [
    "for i, svg in enumerate(dest_folder.iterdir()):\n",
    "    \n",
    "    \n",
    "    # SUIT\n",
    "    if svg.stem.startswith(CIRCLE):\n",
    "        parse_simple_tile(CIRCLE, 'p', svg)\n",
    "        parse_akadora_tile(CIRCLE, 'p', svg)\n",
    "    elif svg.stem.startswith(CHARACTER):\n",
    "        parse_simple_tile(CHARACTER, 'm', svg)\n",
    "        parse_akadora_tile(CHARACTER, 'm', svg)\n",
    "    elif svg.stem.startswith(BAMBOO):\n",
    "        parse_simple_tile(BAMBOO, 's', svg)\n",
    "        parse_akadora_tile(BAMBOO, 's', svg)\n",
    "\n",
    "        \n",
    "    # DRAGON\n",
    "    elif svg.stem.startswith(DRAGON):\n",
    "        if svg.stem.startswith(RED):\n",
    "            parse_honor_tile(RED, 'h7', svg)\n",
    "        elif svg.stem.startswith(GREEN):\n",
    "            parse_honor_tile(GREEN, 'h6', svg)\n",
    "        elif svg.stem.startswith(WHITE):\n",
    "            parse_honor_tile(WHITE, 'h5', svg)\n",
    "\n",
    "    # WIND\n",
    "    elif svg.stem.startswith(WIND):\n",
    "        if svg.stem.startswith(EAST):\n",
    "            parse_honor_tile(EAST, 'h1', svg)\n",
    "        elif svg.stem.startswith(SOUTH):\n",
    "            parse_honor_tile(SOUTH, 'h2', svg)\n",
    "        elif svg.stem.startswith(WEST):\n",
    "            parse_honor_tile(WEST, 'h3', svg)\n",
    "        elif svg.stem.startswith(NORTH):\n",
    "            parse_honor_tile(NORTH, 'h4', svg)\n",
    "            \n",
    "            \n",
    "    # BACKSIDE\n",
    "    elif svg.stem.startswith(BACKSIDE):\n",
    "        parse_back_tile(BACKSIDE, 'xb', svg)\n",
    "        \n",
    "    elif svg.stem.startswith(UNKNOWN):\n",
    "        shutil.copy(svg, final_dest_folder / f\"tile_xu!.svg\")\n"
   ]
  },
  {
   "cell_type": "markdown",
   "metadata": {},
   "source": [
    "# Optimizing SVG files with SVGO\n",
    "Download from here: https://github.com/svg/svgo"
   ]
  },
  {
   "cell_type": "code",
   "execution_count": 12,
   "metadata": {},
   "outputs": [
    {
     "data": {
      "text/plain": [
       "54463"
      ]
     },
     "execution_count": 12,
     "metadata": {},
     "output_type": "execute_result"
    }
   ],
   "source": [
    "# The Stacked 1-pin is invalid svg, and must be fixed by appending the following line:\n",
    "missing_tags = 'xmlns:sodipodi=\"http://sodipodi.sourceforge.net/DTD/sodipodi-0.dtd\" xmlns:inkscape=\"http://www.inkscape.org/namespaces/inkscape\"'\n",
    "\n",
    "error_file = final_dest_folder / 'tile_p1=.svg'\n",
    "text = error_file.read_text()\n",
    "text = text.replace('id=\"svg2985\"', missing_tags + ' id=\"svg2985\"')\n",
    "error_file.write_text(text)"
   ]
  },
  {
   "cell_type": "code",
   "execution_count": 13,
   "metadata": {},
   "outputs": [
    {
     "data": {
      "text/plain": [
       "0"
      ]
     },
     "execution_count": 13,
     "metadata": {},
     "output_type": "execute_result"
    }
   ],
   "source": [
    "!svgo --config=svgo_custom_config.yml -f svg --quiet"
   ]
  },
  {
   "cell_type": "markdown",
   "metadata": {},
   "source": [
    "# Diversify Style IDs"
   ]
  },
  {
   "cell_type": "code",
   "execution_count": 14,
   "metadata": {},
   "outputs": [],
   "source": [
    "# DIVERSIFY ONE FILE\n",
    "SVG_PATH_INPUT = Path('svg')\n",
    "\n",
    "SVG_PATH_OUTPUT = Path('svg')\n",
    "SVG_PATH_OUTPUT.mkdir(exist_ok=True)"
   ]
  },
  {
   "cell_type": "code",
   "execution_count": 15,
   "metadata": {},
   "outputs": [],
   "source": [
    "from pathlib import Path\n",
    "import re"
   ]
  },
  {
   "cell_type": "code",
   "execution_count": 16,
   "metadata": {},
   "outputs": [],
   "source": [
    "style_index = 0  # Increments index for each style index found\n",
    "\n",
    "regex_style = re.compile(r'<style>(.*)<\\/style>')  # <style> tag finder\n",
    "regex_style_classes = re.compile(r'\\.(st\\d+)')  # .stXX finder\n",
    "regex_classes = re.compile(r'\\\"(st\\d+)\\\"')\n",
    "\n",
    "for file in SVG_PATH_INPUT.iterdir():\n",
    "    \n",
    "    text = file.read_text()\n",
    "    current_styles = {}\n",
    "\n",
    "    # Creating style index dictionary\n",
    "    style_snippet = regex_style.search(text).group(1)  # Expects only a SINGLE snippet!\n",
    "    style_classes = regex_style_classes.findall(style_snippet)\n",
    "\n",
    "    for style_class in style_classes:\n",
    "        current_styles[style_class] = f'st{style_index}'\n",
    "        style_index += 1\n",
    "\n",
    "    # Replace all \n",
    "    text = regex_style_classes.sub(lambda m: f'.{current_styles[m.group(1)]}', text)\n",
    "    text = regex_classes.sub(lambda m: f'\"{current_styles[m.group(1)]}\"', text)\n",
    "    \n",
    "    output_path = SVG_PATH_OUTPUT / file.name\n",
    "    output_path.write_text(text)"
   ]
  },
  {
   "cell_type": "markdown",
   "metadata": {},
   "source": [
    "# Validating Alignments of Tiles\n",
    "Not all tiles have all aligments, the following codes list out this fact."
   ]
  },
  {
   "cell_type": "code",
   "execution_count": 19,
   "metadata": {},
   "outputs": [],
   "source": [
    "tile_codes = {}  # {tile_s : [▲ ▼ ◄ ►]}\n",
    "for tile in SVG_PATH_INPUT.iterdir():\n",
    "    name = tile.name[5:7]\n",
    "    if name not in tile_codes:\n",
    "        tile_codes[name] = []\n",
    "        \n",
    "    tile_codes[name].append(tile.name[7])"
   ]
  },
  {
   "cell_type": "code",
   "execution_count": 30,
   "metadata": {},
   "outputs": [
    {
     "name": "stdout",
     "output_type": "stream",
     "text": [
      "h1: △ ▷ ▽ ◁\n",
      "h2: △ ▷ ▽ ◁\n",
      "h3: △ ▷ ▽ ◁\n",
      "h4: △ ▷ ▽ ◁\n",
      "h5: △ ▷    \n",
      "h6: △ ▷ ▽ ◁\n",
      "h7: △ ▷ ▽ ◁\n",
      "m0: △ ▷ ▽ ◁\n",
      "m1: △ ▷ ▽ ◁\n",
      "m2: △ ▷ ▽ ◁\n",
      "m3: △ ▷ ▽ ◁\n",
      "m4: △ ▷ ▽ ◁\n",
      "m5: △ ▷ ▽ ◁\n",
      "m6: △ ▷ ▽ ◁\n",
      "m7: △ ▷ ▽ ◁\n",
      "m8: △ ▷ ▽ ◁\n",
      "m9: △ ▷ ▽ ◁\n",
      "p0: △ ▷    \n",
      "p1: △ ▷    \n",
      "p2: △ ▷ ▽ ◁\n",
      "p3: △ ▷ ▽ ◁\n",
      "p4: △ ▷    \n",
      "p5: △ ▷    \n",
      "p6: △ ▷ ▽ ◁\n",
      "p7: △ ▷ ▽ ◁\n",
      "p8: △ ▷    \n",
      "p9: △ ▷ ▽ ◁\n",
      "s0: △ ▷    \n",
      "s1: △ ▷ ▽ ◁\n",
      "s2: △ ▷    \n",
      "s3: △ ▷ ▽ ◁\n",
      "s4: △ ▷    \n",
      "s5: △ ▷    \n",
      "s6: △ ▷    \n",
      "s7: △ ▷ ▽ ◁\n",
      "s8: △ ▷    \n",
      "s9: △ ▷    \n",
      "xb: △ ▷    \n",
      "xu: △      \n"
     ]
    }
   ],
   "source": [
    "for tile, alignment in tile_codes.items():\n",
    "    print(f'{tile}: ', end='')\n",
    "    print('△' if '!' in alignment else ' ', end=' ')\n",
    "    print('▷' if '-' in alignment else ' ', end=' ')\n",
    "    print('▽' if 'i' in alignment else ' ', end=' ')\n",
    "    print('◁' if '~' in alignment else ' ')"
   ]
  },
  {
   "cell_type": "code",
   "execution_count": null,
   "metadata": {},
   "outputs": [],
   "source": []
  }
 ],
 "metadata": {
  "kernelspec": {
   "display_name": "Python 3.8 (XPython)",
   "language": "python",
   "name": "xpython"
  },
  "language_info": {
   "file_extension": ".py",
   "mimetype": "text/x-python",
   "name": "python",
   "version": "3.8.6"
  }
 },
 "nbformat": 4,
 "nbformat_minor": 4
}
