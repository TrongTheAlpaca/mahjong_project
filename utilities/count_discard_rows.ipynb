{
 "cells": [
  {
   "cell_type": "markdown",
   "metadata": {},
   "source": [
    "# Count Rows\n",
    "The following code counts number of rows of our discard dataset"
   ]
  },
  {
   "cell_type": "code",
   "execution_count": 17,
   "metadata": {},
   "outputs": [],
   "source": [
    "import os\n",
    "from pathlib import Path\n",
    "\n",
    "import numpy as np\n",
    "import scipy.sparse\n",
    "\n",
    "from tqdm import tqdm\n",
    "\n",
    "from dotenv import load_dotenv, find_dotenv\n",
    "\n",
    "load_dotenv(find_dotenv('config.env'))\n",
    "\n",
    "DATASET_PATH = Path(os.environ.get('DISCARD_DATASET'))"
   ]
  },
  {
   "cell_type": "code",
   "execution_count": 18,
   "metadata": {},
   "outputs": [
    {
     "name": "stdout",
     "output_type": "stream",
     "text": [
      "/home/jovyan/MasterThesis/data/discard_datasets/2018\n",
      "/home/jovyan/MasterThesis/data/discard_datasets/2017\n",
      "/home/jovyan/MasterThesis/data/discard_datasets/2019\n",
      "/home/jovyan/MasterThesis/data/discard_datasets/2016\n",
      "/home/jovyan/MasterThesis/data/discard_datasets/.ipynb_checkpoints\n"
     ]
    }
   ],
   "source": [
    "for i in DATASET_PATH.iterdir():\n",
    "    print(i)"
   ]
  },
  {
   "cell_type": "code",
   "execution_count": 19,
   "metadata": {},
   "outputs": [],
   "source": [
    "def generate_phase_column(array: np.array) -> np.array:    \n",
    "    \n",
    "    # Begin with merging all pools together\n",
    "    merged_discards = array[:, 238:]  # Discards\n",
    "    merged_discards = np.sum(merged_discards, axis=1)\n",
    "\n",
    "    phases = np.zeros([array.shape[0]])  # Early Game\n",
    "    phases[(24 < merged_discards) & (merged_discards <= 48)] = 1  # Mid Game\n",
    "    phases[(48 < merged_discards)] = 2  # End Game\n",
    "\n",
    "    return array[(phases == 0)], array[(phases == 1)], array[(phases == 2)]"
   ]
  },
  {
   "cell_type": "code",
   "execution_count": 20,
   "metadata": {},
   "outputs": [
    {
     "name": "stderr",
     "output_type": "stream",
     "text": [
      "2018: 100%|██████████| 173548/173548 [06:10<00:00, 468.22it/s]\n",
      "2017: 100%|██████████| 169384/169384 [05:56<00:00, 475.60it/s]\n",
      "2019: 100%|██████████| 171629/171629 [05:48<00:00, 492.64it/s]\n",
      "2016: 100%|██████████| 159665/159665 [05:38<00:00, 471.27it/s]\n"
     ]
    }
   ],
   "source": [
    "phase_discards = {}\n",
    "\n",
    "for year in DATASET_PATH.iterdir():\n",
    "    if year.stem != \".ipynb_checkpoints\":\n",
    "        \n",
    "        current_phase_discards = np.zeros(3, dtype=int)\n",
    "        \n",
    "        sparse_files = list(year.iterdir())\n",
    "        for game in tqdm(sparse_files, total=len(sparse_files), desc=year.stem):\n",
    "            \n",
    "            rows = scipy.sparse.load_npz(game).toarray()\n",
    "            phase_arrays = generate_phase_column(rows)\n",
    "            \n",
    "            current_phase_discards[0] += phase_arrays[0].shape[0]\n",
    "            current_phase_discards[1] += phase_arrays[1].shape[0]\n",
    "            current_phase_discards[2] += phase_arrays[2].shape[0]\n",
    "            \n",
    "        phase_discards[int(year.stem)] = current_phase_discards"
   ]
  },
  {
   "cell_type": "markdown",
   "metadata": {},
   "source": [
    "# To DataFrame\n",
    "Good for LaTeX table if needed.\n",
    "\n",
    "Documentation: [pandas.DataFrame.to_latex()](https://pandas.pydata.org/pandas-docs/stable/reference/api/pandas.DataFrame.to_latex.html)"
   ]
  },
  {
   "cell_type": "code",
   "execution_count": 81,
   "metadata": {},
   "outputs": [
    {
     "data": {
      "text/html": [
       "<div>\n",
       "<style scoped>\n",
       "    .dataframe tbody tr th:only-of-type {\n",
       "        vertical-align: middle;\n",
       "    }\n",
       "\n",
       "    .dataframe tbody tr th {\n",
       "        vertical-align: top;\n",
       "    }\n",
       "\n",
       "    .dataframe thead th {\n",
       "        text-align: right;\n",
       "    }\n",
       "</style>\n",
       "<table border=\"1\" class=\"dataframe\">\n",
       "  <thead>\n",
       "    <tr style=\"text-align: right;\">\n",
       "      <th></th>\n",
       "      <th>phase_0</th>\n",
       "      <th>phase_1</th>\n",
       "      <th>phase_2</th>\n",
       "      <th>total</th>\n",
       "    </tr>\n",
       "  </thead>\n",
       "  <tbody>\n",
       "    <tr>\n",
       "      <th>2016</th>\n",
       "      <td>10766723</td>\n",
       "      <td>38447335</td>\n",
       "      <td>28420353</td>\n",
       "      <td>77634411</td>\n",
       "    </tr>\n",
       "    <tr>\n",
       "      <th>2017</th>\n",
       "      <td>11409454</td>\n",
       "      <td>40751004</td>\n",
       "      <td>30250860</td>\n",
       "      <td>82411318</td>\n",
       "    </tr>\n",
       "    <tr>\n",
       "      <th>2018</th>\n",
       "      <td>11596765</td>\n",
       "      <td>41775222</td>\n",
       "      <td>30798003</td>\n",
       "      <td>84169990</td>\n",
       "    </tr>\n",
       "    <tr>\n",
       "      <th>2019</th>\n",
       "      <td>11406683</td>\n",
       "      <td>41303327</td>\n",
       "      <td>30340369</td>\n",
       "      <td>83050379</td>\n",
       "    </tr>\n",
       "  </tbody>\n",
       "</table>\n",
       "</div>"
      ],
      "text/plain": [
       "       phase_0   phase_1   phase_2     total\n",
       "2016  10766723  38447335  28420353  77634411\n",
       "2017  11409454  40751004  30250860  82411318\n",
       "2018  11596765  41775222  30798003  84169990\n",
       "2019  11406683  41303327  30340369  83050379"
      ]
     },
     "execution_count": 81,
     "metadata": {},
     "output_type": "execute_result"
    }
   ],
   "source": [
    "import pandas as pd\n",
    "\n",
    "df = pd.DataFrame.from_dict(phase_discards, orient=\"index\", columns=['phase_0', 'phase_1', 'phase_2'])\n",
    "df['total'] = df.sum(axis=1)\n",
    "df = df.sort_index(axis=0)\n",
    "df"
   ]
  },
  {
   "cell_type": "code",
   "execution_count": 82,
   "metadata": {},
   "outputs": [
    {
     "name": "stdout",
     "output_type": "stream",
     "text": [
      "\\begin{tabular}{lrrrr}\n",
      "\\toprule\n",
      "{} &   phase\\_0 &   phase\\_1 &   phase\\_2 &     total \\\\\n",
      "\\midrule\n",
      "2016 &  10766723 &  38447335 &  28420353 &  77634411 \\\\\n",
      "2017 &  11409454 &  40751004 &  30250860 &  82411318 \\\\\n",
      "2018 &  11596765 &  41775222 &  30798003 &  84169990 \\\\\n",
      "2019 &  11406683 &  41303327 &  30340369 &  83050379 \\\\\n",
      "\\bottomrule\n",
      "\\end{tabular}\n",
      "\n"
     ]
    }
   ],
   "source": [
    "print(df.to_latex(float_format='.2f'))"
   ]
  },
  {
   "cell_type": "code",
   "execution_count": null,
   "metadata": {},
   "outputs": [],
   "source": []
  }
 ],
 "metadata": {
  "kernelspec": {
   "display_name": "Python 3",
   "language": "python",
   "name": "python3"
  },
  "language_info": {
   "codemirror_mode": {
    "name": "ipython",
    "version": 3
   },
   "file_extension": ".py",
   "mimetype": "text/x-python",
   "name": "python",
   "nbconvert_exporter": "python",
   "pygments_lexer": "ipython3",
   "version": "3.8.6"
  }
 },
 "nbformat": 4,
 "nbformat_minor": 4
}
